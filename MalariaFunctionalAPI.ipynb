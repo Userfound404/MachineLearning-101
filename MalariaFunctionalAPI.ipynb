{
  "nbformat": 4,
  "nbformat_minor": 0,
  "metadata": {
    "colab": {
      "provenance": [],
      "gpuType": "T4",
      "authorship_tag": "ABX9TyNbQJD+/y6e+dlX5CN2KpC5",
      "include_colab_link": true
    },
    "kernelspec": {
      "name": "python3",
      "display_name": "Python 3"
    },
    "language_info": {
      "name": "python"
    },
    "accelerator": "GPU",
    "widgets": {
      "application/vnd.jupyter.widget-state+json": {
        "93994eb1132e4031bca6e3a192c5967f": {
          "model_module": "@jupyter-widgets/controls",
          "model_name": "HBoxModel",
          "model_module_version": "1.5.0",
          "state": {
            "_dom_classes": [],
            "_model_module": "@jupyter-widgets/controls",
            "_model_module_version": "1.5.0",
            "_model_name": "HBoxModel",
            "_view_count": null,
            "_view_module": "@jupyter-widgets/controls",
            "_view_module_version": "1.5.0",
            "_view_name": "HBoxView",
            "box_style": "",
            "children": [
              "IPY_MODEL_1064ec12f2374405bb15710a814a286c",
              "IPY_MODEL_e17ac816b4ba438da2be4322c9bd15f0",
              "IPY_MODEL_f45e0e21d48041719f8ceb7f6a132e4f"
            ],
            "layout": "IPY_MODEL_eadeaf29b01345d7871eaedd40d50bde"
          }
        },
        "1064ec12f2374405bb15710a814a286c": {
          "model_module": "@jupyter-widgets/controls",
          "model_name": "HTMLModel",
          "model_module_version": "1.5.0",
          "state": {
            "_dom_classes": [],
            "_model_module": "@jupyter-widgets/controls",
            "_model_module_version": "1.5.0",
            "_model_name": "HTMLModel",
            "_view_count": null,
            "_view_module": "@jupyter-widgets/controls",
            "_view_module_version": "1.5.0",
            "_view_name": "HTMLView",
            "description": "",
            "description_tooltip": null,
            "layout": "IPY_MODEL_21eb94f5f5224330b4ea6a9e371ffdcb",
            "placeholder": "​",
            "style": "IPY_MODEL_22b446c5f1154f948887bfbe84250530",
            "value": "Dl Completed...: 100%"
          }
        },
        "e17ac816b4ba438da2be4322c9bd15f0": {
          "model_module": "@jupyter-widgets/controls",
          "model_name": "FloatProgressModel",
          "model_module_version": "1.5.0",
          "state": {
            "_dom_classes": [],
            "_model_module": "@jupyter-widgets/controls",
            "_model_module_version": "1.5.0",
            "_model_name": "FloatProgressModel",
            "_view_count": null,
            "_view_module": "@jupyter-widgets/controls",
            "_view_module_version": "1.5.0",
            "_view_name": "ProgressView",
            "bar_style": "success",
            "description": "",
            "description_tooltip": null,
            "layout": "IPY_MODEL_81fdfbebf281465d987d70572e37a532",
            "max": 1,
            "min": 0,
            "orientation": "horizontal",
            "style": "IPY_MODEL_e181609b24844050b15d448c223467e1",
            "value": 1
          }
        },
        "f45e0e21d48041719f8ceb7f6a132e4f": {
          "model_module": "@jupyter-widgets/controls",
          "model_name": "HTMLModel",
          "model_module_version": "1.5.0",
          "state": {
            "_dom_classes": [],
            "_model_module": "@jupyter-widgets/controls",
            "_model_module_version": "1.5.0",
            "_model_name": "HTMLModel",
            "_view_count": null,
            "_view_module": "@jupyter-widgets/controls",
            "_view_module_version": "1.5.0",
            "_view_name": "HTMLView",
            "description": "",
            "description_tooltip": null,
            "layout": "IPY_MODEL_9e3e78fe37634cdcacf20c2974db88f9",
            "placeholder": "​",
            "style": "IPY_MODEL_54e0c916efaa4bdeb06f31637b354189",
            "value": " 1/1 [01:08&lt;00:00,  6.30s/ url]"
          }
        },
        "eadeaf29b01345d7871eaedd40d50bde": {
          "model_module": "@jupyter-widgets/base",
          "model_name": "LayoutModel",
          "model_module_version": "1.2.0",
          "state": {
            "_model_module": "@jupyter-widgets/base",
            "_model_module_version": "1.2.0",
            "_model_name": "LayoutModel",
            "_view_count": null,
            "_view_module": "@jupyter-widgets/base",
            "_view_module_version": "1.2.0",
            "_view_name": "LayoutView",
            "align_content": null,
            "align_items": null,
            "align_self": null,
            "border": null,
            "bottom": null,
            "display": null,
            "flex": null,
            "flex_flow": null,
            "grid_area": null,
            "grid_auto_columns": null,
            "grid_auto_flow": null,
            "grid_auto_rows": null,
            "grid_column": null,
            "grid_gap": null,
            "grid_row": null,
            "grid_template_areas": null,
            "grid_template_columns": null,
            "grid_template_rows": null,
            "height": null,
            "justify_content": null,
            "justify_items": null,
            "left": null,
            "margin": null,
            "max_height": null,
            "max_width": null,
            "min_height": null,
            "min_width": null,
            "object_fit": null,
            "object_position": null,
            "order": null,
            "overflow": null,
            "overflow_x": null,
            "overflow_y": null,
            "padding": null,
            "right": null,
            "top": null,
            "visibility": null,
            "width": null
          }
        },
        "21eb94f5f5224330b4ea6a9e371ffdcb": {
          "model_module": "@jupyter-widgets/base",
          "model_name": "LayoutModel",
          "model_module_version": "1.2.0",
          "state": {
            "_model_module": "@jupyter-widgets/base",
            "_model_module_version": "1.2.0",
            "_model_name": "LayoutModel",
            "_view_count": null,
            "_view_module": "@jupyter-widgets/base",
            "_view_module_version": "1.2.0",
            "_view_name": "LayoutView",
            "align_content": null,
            "align_items": null,
            "align_self": null,
            "border": null,
            "bottom": null,
            "display": null,
            "flex": null,
            "flex_flow": null,
            "grid_area": null,
            "grid_auto_columns": null,
            "grid_auto_flow": null,
            "grid_auto_rows": null,
            "grid_column": null,
            "grid_gap": null,
            "grid_row": null,
            "grid_template_areas": null,
            "grid_template_columns": null,
            "grid_template_rows": null,
            "height": null,
            "justify_content": null,
            "justify_items": null,
            "left": null,
            "margin": null,
            "max_height": null,
            "max_width": null,
            "min_height": null,
            "min_width": null,
            "object_fit": null,
            "object_position": null,
            "order": null,
            "overflow": null,
            "overflow_x": null,
            "overflow_y": null,
            "padding": null,
            "right": null,
            "top": null,
            "visibility": null,
            "width": null
          }
        },
        "22b446c5f1154f948887bfbe84250530": {
          "model_module": "@jupyter-widgets/controls",
          "model_name": "DescriptionStyleModel",
          "model_module_version": "1.5.0",
          "state": {
            "_model_module": "@jupyter-widgets/controls",
            "_model_module_version": "1.5.0",
            "_model_name": "DescriptionStyleModel",
            "_view_count": null,
            "_view_module": "@jupyter-widgets/base",
            "_view_module_version": "1.2.0",
            "_view_name": "StyleView",
            "description_width": ""
          }
        },
        "81fdfbebf281465d987d70572e37a532": {
          "model_module": "@jupyter-widgets/base",
          "model_name": "LayoutModel",
          "model_module_version": "1.2.0",
          "state": {
            "_model_module": "@jupyter-widgets/base",
            "_model_module_version": "1.2.0",
            "_model_name": "LayoutModel",
            "_view_count": null,
            "_view_module": "@jupyter-widgets/base",
            "_view_module_version": "1.2.0",
            "_view_name": "LayoutView",
            "align_content": null,
            "align_items": null,
            "align_self": null,
            "border": null,
            "bottom": null,
            "display": null,
            "flex": null,
            "flex_flow": null,
            "grid_area": null,
            "grid_auto_columns": null,
            "grid_auto_flow": null,
            "grid_auto_rows": null,
            "grid_column": null,
            "grid_gap": null,
            "grid_row": null,
            "grid_template_areas": null,
            "grid_template_columns": null,
            "grid_template_rows": null,
            "height": null,
            "justify_content": null,
            "justify_items": null,
            "left": null,
            "margin": null,
            "max_height": null,
            "max_width": null,
            "min_height": null,
            "min_width": null,
            "object_fit": null,
            "object_position": null,
            "order": null,
            "overflow": null,
            "overflow_x": null,
            "overflow_y": null,
            "padding": null,
            "right": null,
            "top": null,
            "visibility": null,
            "width": "20px"
          }
        },
        "e181609b24844050b15d448c223467e1": {
          "model_module": "@jupyter-widgets/controls",
          "model_name": "ProgressStyleModel",
          "model_module_version": "1.5.0",
          "state": {
            "_model_module": "@jupyter-widgets/controls",
            "_model_module_version": "1.5.0",
            "_model_name": "ProgressStyleModel",
            "_view_count": null,
            "_view_module": "@jupyter-widgets/base",
            "_view_module_version": "1.2.0",
            "_view_name": "StyleView",
            "bar_color": null,
            "description_width": ""
          }
        },
        "9e3e78fe37634cdcacf20c2974db88f9": {
          "model_module": "@jupyter-widgets/base",
          "model_name": "LayoutModel",
          "model_module_version": "1.2.0",
          "state": {
            "_model_module": "@jupyter-widgets/base",
            "_model_module_version": "1.2.0",
            "_model_name": "LayoutModel",
            "_view_count": null,
            "_view_module": "@jupyter-widgets/base",
            "_view_module_version": "1.2.0",
            "_view_name": "LayoutView",
            "align_content": null,
            "align_items": null,
            "align_self": null,
            "border": null,
            "bottom": null,
            "display": null,
            "flex": null,
            "flex_flow": null,
            "grid_area": null,
            "grid_auto_columns": null,
            "grid_auto_flow": null,
            "grid_auto_rows": null,
            "grid_column": null,
            "grid_gap": null,
            "grid_row": null,
            "grid_template_areas": null,
            "grid_template_columns": null,
            "grid_template_rows": null,
            "height": null,
            "justify_content": null,
            "justify_items": null,
            "left": null,
            "margin": null,
            "max_height": null,
            "max_width": null,
            "min_height": null,
            "min_width": null,
            "object_fit": null,
            "object_position": null,
            "order": null,
            "overflow": null,
            "overflow_x": null,
            "overflow_y": null,
            "padding": null,
            "right": null,
            "top": null,
            "visibility": null,
            "width": null
          }
        },
        "54e0c916efaa4bdeb06f31637b354189": {
          "model_module": "@jupyter-widgets/controls",
          "model_name": "DescriptionStyleModel",
          "model_module_version": "1.5.0",
          "state": {
            "_model_module": "@jupyter-widgets/controls",
            "_model_module_version": "1.5.0",
            "_model_name": "DescriptionStyleModel",
            "_view_count": null,
            "_view_module": "@jupyter-widgets/base",
            "_view_module_version": "1.2.0",
            "_view_name": "StyleView",
            "description_width": ""
          }
        },
        "2f58b3e7b77345ad8e167659da6fee46": {
          "model_module": "@jupyter-widgets/controls",
          "model_name": "HBoxModel",
          "model_module_version": "1.5.0",
          "state": {
            "_dom_classes": [],
            "_model_module": "@jupyter-widgets/controls",
            "_model_module_version": "1.5.0",
            "_model_name": "HBoxModel",
            "_view_count": null,
            "_view_module": "@jupyter-widgets/controls",
            "_view_module_version": "1.5.0",
            "_view_name": "HBoxView",
            "box_style": "",
            "children": [
              "IPY_MODEL_6363e56f7e6d43a8bec62483c229f833",
              "IPY_MODEL_a3aa45a7c2b84af5b0d63fca3ca51dcd",
              "IPY_MODEL_2f028ba9c4504bbd93a48bc4ba287148"
            ],
            "layout": "IPY_MODEL_203e044c1fcb412980f02ef863effa70"
          }
        },
        "6363e56f7e6d43a8bec62483c229f833": {
          "model_module": "@jupyter-widgets/controls",
          "model_name": "HTMLModel",
          "model_module_version": "1.5.0",
          "state": {
            "_dom_classes": [],
            "_model_module": "@jupyter-widgets/controls",
            "_model_module_version": "1.5.0",
            "_model_name": "HTMLModel",
            "_view_count": null,
            "_view_module": "@jupyter-widgets/controls",
            "_view_module_version": "1.5.0",
            "_view_name": "HTMLView",
            "description": "",
            "description_tooltip": null,
            "layout": "IPY_MODEL_62e219eaf18b4e1cbb5bc346a274ad58",
            "placeholder": "​",
            "style": "IPY_MODEL_441f3932b41b4bb58e5dfb56084b85dd",
            "value": "Dl Size...: 100%"
          }
        },
        "a3aa45a7c2b84af5b0d63fca3ca51dcd": {
          "model_module": "@jupyter-widgets/controls",
          "model_name": "FloatProgressModel",
          "model_module_version": "1.5.0",
          "state": {
            "_dom_classes": [],
            "_model_module": "@jupyter-widgets/controls",
            "_model_module_version": "1.5.0",
            "_model_name": "FloatProgressModel",
            "_view_count": null,
            "_view_module": "@jupyter-widgets/controls",
            "_view_module_version": "1.5.0",
            "_view_name": "ProgressView",
            "bar_style": "success",
            "description": "",
            "description_tooltip": null,
            "layout": "IPY_MODEL_c3adca9a290c4a258ce85eb447499eb6",
            "max": 1,
            "min": 0,
            "orientation": "horizontal",
            "style": "IPY_MODEL_f227a3121dc149f28f113f0772c70886",
            "value": 1
          }
        },
        "2f028ba9c4504bbd93a48bc4ba287148": {
          "model_module": "@jupyter-widgets/controls",
          "model_name": "HTMLModel",
          "model_module_version": "1.5.0",
          "state": {
            "_dom_classes": [],
            "_model_module": "@jupyter-widgets/controls",
            "_model_module_version": "1.5.0",
            "_model_name": "HTMLModel",
            "_view_count": null,
            "_view_module": "@jupyter-widgets/controls",
            "_view_module_version": "1.5.0",
            "_view_name": "HTMLView",
            "description": "",
            "description_tooltip": null,
            "layout": "IPY_MODEL_2a1a8330799246a3b51d9a4081b395e3",
            "placeholder": "​",
            "style": "IPY_MODEL_12c0d93d09774e14905a2f852517b07d",
            "value": " 337/337 [01:08&lt;00:00, 25.19 MiB/s]"
          }
        },
        "203e044c1fcb412980f02ef863effa70": {
          "model_module": "@jupyter-widgets/base",
          "model_name": "LayoutModel",
          "model_module_version": "1.2.0",
          "state": {
            "_model_module": "@jupyter-widgets/base",
            "_model_module_version": "1.2.0",
            "_model_name": "LayoutModel",
            "_view_count": null,
            "_view_module": "@jupyter-widgets/base",
            "_view_module_version": "1.2.0",
            "_view_name": "LayoutView",
            "align_content": null,
            "align_items": null,
            "align_self": null,
            "border": null,
            "bottom": null,
            "display": null,
            "flex": null,
            "flex_flow": null,
            "grid_area": null,
            "grid_auto_columns": null,
            "grid_auto_flow": null,
            "grid_auto_rows": null,
            "grid_column": null,
            "grid_gap": null,
            "grid_row": null,
            "grid_template_areas": null,
            "grid_template_columns": null,
            "grid_template_rows": null,
            "height": null,
            "justify_content": null,
            "justify_items": null,
            "left": null,
            "margin": null,
            "max_height": null,
            "max_width": null,
            "min_height": null,
            "min_width": null,
            "object_fit": null,
            "object_position": null,
            "order": null,
            "overflow": null,
            "overflow_x": null,
            "overflow_y": null,
            "padding": null,
            "right": null,
            "top": null,
            "visibility": null,
            "width": null
          }
        },
        "62e219eaf18b4e1cbb5bc346a274ad58": {
          "model_module": "@jupyter-widgets/base",
          "model_name": "LayoutModel",
          "model_module_version": "1.2.0",
          "state": {
            "_model_module": "@jupyter-widgets/base",
            "_model_module_version": "1.2.0",
            "_model_name": "LayoutModel",
            "_view_count": null,
            "_view_module": "@jupyter-widgets/base",
            "_view_module_version": "1.2.0",
            "_view_name": "LayoutView",
            "align_content": null,
            "align_items": null,
            "align_self": null,
            "border": null,
            "bottom": null,
            "display": null,
            "flex": null,
            "flex_flow": null,
            "grid_area": null,
            "grid_auto_columns": null,
            "grid_auto_flow": null,
            "grid_auto_rows": null,
            "grid_column": null,
            "grid_gap": null,
            "grid_row": null,
            "grid_template_areas": null,
            "grid_template_columns": null,
            "grid_template_rows": null,
            "height": null,
            "justify_content": null,
            "justify_items": null,
            "left": null,
            "margin": null,
            "max_height": null,
            "max_width": null,
            "min_height": null,
            "min_width": null,
            "object_fit": null,
            "object_position": null,
            "order": null,
            "overflow": null,
            "overflow_x": null,
            "overflow_y": null,
            "padding": null,
            "right": null,
            "top": null,
            "visibility": null,
            "width": null
          }
        },
        "441f3932b41b4bb58e5dfb56084b85dd": {
          "model_module": "@jupyter-widgets/controls",
          "model_name": "DescriptionStyleModel",
          "model_module_version": "1.5.0",
          "state": {
            "_model_module": "@jupyter-widgets/controls",
            "_model_module_version": "1.5.0",
            "_model_name": "DescriptionStyleModel",
            "_view_count": null,
            "_view_module": "@jupyter-widgets/base",
            "_view_module_version": "1.2.0",
            "_view_name": "StyleView",
            "description_width": ""
          }
        },
        "c3adca9a290c4a258ce85eb447499eb6": {
          "model_module": "@jupyter-widgets/base",
          "model_name": "LayoutModel",
          "model_module_version": "1.2.0",
          "state": {
            "_model_module": "@jupyter-widgets/base",
            "_model_module_version": "1.2.0",
            "_model_name": "LayoutModel",
            "_view_count": null,
            "_view_module": "@jupyter-widgets/base",
            "_view_module_version": "1.2.0",
            "_view_name": "LayoutView",
            "align_content": null,
            "align_items": null,
            "align_self": null,
            "border": null,
            "bottom": null,
            "display": null,
            "flex": null,
            "flex_flow": null,
            "grid_area": null,
            "grid_auto_columns": null,
            "grid_auto_flow": null,
            "grid_auto_rows": null,
            "grid_column": null,
            "grid_gap": null,
            "grid_row": null,
            "grid_template_areas": null,
            "grid_template_columns": null,
            "grid_template_rows": null,
            "height": null,
            "justify_content": null,
            "justify_items": null,
            "left": null,
            "margin": null,
            "max_height": null,
            "max_width": null,
            "min_height": null,
            "min_width": null,
            "object_fit": null,
            "object_position": null,
            "order": null,
            "overflow": null,
            "overflow_x": null,
            "overflow_y": null,
            "padding": null,
            "right": null,
            "top": null,
            "visibility": null,
            "width": "20px"
          }
        },
        "f227a3121dc149f28f113f0772c70886": {
          "model_module": "@jupyter-widgets/controls",
          "model_name": "ProgressStyleModel",
          "model_module_version": "1.5.0",
          "state": {
            "_model_module": "@jupyter-widgets/controls",
            "_model_module_version": "1.5.0",
            "_model_name": "ProgressStyleModel",
            "_view_count": null,
            "_view_module": "@jupyter-widgets/base",
            "_view_module_version": "1.2.0",
            "_view_name": "StyleView",
            "bar_color": null,
            "description_width": ""
          }
        },
        "2a1a8330799246a3b51d9a4081b395e3": {
          "model_module": "@jupyter-widgets/base",
          "model_name": "LayoutModel",
          "model_module_version": "1.2.0",
          "state": {
            "_model_module": "@jupyter-widgets/base",
            "_model_module_version": "1.2.0",
            "_model_name": "LayoutModel",
            "_view_count": null,
            "_view_module": "@jupyter-widgets/base",
            "_view_module_version": "1.2.0",
            "_view_name": "LayoutView",
            "align_content": null,
            "align_items": null,
            "align_self": null,
            "border": null,
            "bottom": null,
            "display": null,
            "flex": null,
            "flex_flow": null,
            "grid_area": null,
            "grid_auto_columns": null,
            "grid_auto_flow": null,
            "grid_auto_rows": null,
            "grid_column": null,
            "grid_gap": null,
            "grid_row": null,
            "grid_template_areas": null,
            "grid_template_columns": null,
            "grid_template_rows": null,
            "height": null,
            "justify_content": null,
            "justify_items": null,
            "left": null,
            "margin": null,
            "max_height": null,
            "max_width": null,
            "min_height": null,
            "min_width": null,
            "object_fit": null,
            "object_position": null,
            "order": null,
            "overflow": null,
            "overflow_x": null,
            "overflow_y": null,
            "padding": null,
            "right": null,
            "top": null,
            "visibility": null,
            "width": null
          }
        },
        "12c0d93d09774e14905a2f852517b07d": {
          "model_module": "@jupyter-widgets/controls",
          "model_name": "DescriptionStyleModel",
          "model_module_version": "1.5.0",
          "state": {
            "_model_module": "@jupyter-widgets/controls",
            "_model_module_version": "1.5.0",
            "_model_name": "DescriptionStyleModel",
            "_view_count": null,
            "_view_module": "@jupyter-widgets/base",
            "_view_module_version": "1.2.0",
            "_view_name": "StyleView",
            "description_width": ""
          }
        },
        "526a3f8f42504dcd9be6e07349020feb": {
          "model_module": "@jupyter-widgets/controls",
          "model_name": "HBoxModel",
          "model_module_version": "1.5.0",
          "state": {
            "_dom_classes": [],
            "_model_module": "@jupyter-widgets/controls",
            "_model_module_version": "1.5.0",
            "_model_name": "HBoxModel",
            "_view_count": null,
            "_view_module": "@jupyter-widgets/controls",
            "_view_module_version": "1.5.0",
            "_view_name": "HBoxView",
            "box_style": "",
            "children": [
              "IPY_MODEL_6d42fb309d4d4f859212976b7ae2c949",
              "IPY_MODEL_464cc98c0ca445eba70dba31e6f5e8f7",
              "IPY_MODEL_6fe8142cacfe4ffcbb23d558bb2bf4b3"
            ],
            "layout": "IPY_MODEL_dca2a4a6cc754e688750e45333b3d05f"
          }
        },
        "6d42fb309d4d4f859212976b7ae2c949": {
          "model_module": "@jupyter-widgets/controls",
          "model_name": "HTMLModel",
          "model_module_version": "1.5.0",
          "state": {
            "_dom_classes": [],
            "_model_module": "@jupyter-widgets/controls",
            "_model_module_version": "1.5.0",
            "_model_name": "HTMLModel",
            "_view_count": null,
            "_view_module": "@jupyter-widgets/controls",
            "_view_module_version": "1.5.0",
            "_view_name": "HTMLView",
            "description": "",
            "description_tooltip": null,
            "layout": "IPY_MODEL_4c8a580fe5364d29ab7ff50b1d9a90f2",
            "placeholder": "​",
            "style": "IPY_MODEL_62880ce77b884d6cb792990998a5839e",
            "value": "Extraction completed...: 100%"
          }
        },
        "464cc98c0ca445eba70dba31e6f5e8f7": {
          "model_module": "@jupyter-widgets/controls",
          "model_name": "FloatProgressModel",
          "model_module_version": "1.5.0",
          "state": {
            "_dom_classes": [],
            "_model_module": "@jupyter-widgets/controls",
            "_model_module_version": "1.5.0",
            "_model_name": "FloatProgressModel",
            "_view_count": null,
            "_view_module": "@jupyter-widgets/controls",
            "_view_module_version": "1.5.0",
            "_view_name": "ProgressView",
            "bar_style": "success",
            "description": "",
            "description_tooltip": null,
            "layout": "IPY_MODEL_4c0215b4a8f74276904f78af5afba3b3",
            "max": 1,
            "min": 0,
            "orientation": "horizontal",
            "style": "IPY_MODEL_6ba76e1535d7497689bad930b30f8b06",
            "value": 0
          }
        },
        "6fe8142cacfe4ffcbb23d558bb2bf4b3": {
          "model_module": "@jupyter-widgets/controls",
          "model_name": "HTMLModel",
          "model_module_version": "1.5.0",
          "state": {
            "_dom_classes": [],
            "_model_module": "@jupyter-widgets/controls",
            "_model_module_version": "1.5.0",
            "_model_name": "HTMLModel",
            "_view_count": null,
            "_view_module": "@jupyter-widgets/controls",
            "_view_module_version": "1.5.0",
            "_view_name": "HTMLView",
            "description": "",
            "description_tooltip": null,
            "layout": "IPY_MODEL_26fc8549bc9840f09b81d05f7ec66aef",
            "placeholder": "​",
            "style": "IPY_MODEL_c773fd6873494fa78318a1677ee7c4bd",
            "value": " 27560/27560 [01:10&lt;00:00, 1140.11 file/s]"
          }
        },
        "dca2a4a6cc754e688750e45333b3d05f": {
          "model_module": "@jupyter-widgets/base",
          "model_name": "LayoutModel",
          "model_module_version": "1.2.0",
          "state": {
            "_model_module": "@jupyter-widgets/base",
            "_model_module_version": "1.2.0",
            "_model_name": "LayoutModel",
            "_view_count": null,
            "_view_module": "@jupyter-widgets/base",
            "_view_module_version": "1.2.0",
            "_view_name": "LayoutView",
            "align_content": null,
            "align_items": null,
            "align_self": null,
            "border": null,
            "bottom": null,
            "display": null,
            "flex": null,
            "flex_flow": null,
            "grid_area": null,
            "grid_auto_columns": null,
            "grid_auto_flow": null,
            "grid_auto_rows": null,
            "grid_column": null,
            "grid_gap": null,
            "grid_row": null,
            "grid_template_areas": null,
            "grid_template_columns": null,
            "grid_template_rows": null,
            "height": null,
            "justify_content": null,
            "justify_items": null,
            "left": null,
            "margin": null,
            "max_height": null,
            "max_width": null,
            "min_height": null,
            "min_width": null,
            "object_fit": null,
            "object_position": null,
            "order": null,
            "overflow": null,
            "overflow_x": null,
            "overflow_y": null,
            "padding": null,
            "right": null,
            "top": null,
            "visibility": null,
            "width": null
          }
        },
        "4c8a580fe5364d29ab7ff50b1d9a90f2": {
          "model_module": "@jupyter-widgets/base",
          "model_name": "LayoutModel",
          "model_module_version": "1.2.0",
          "state": {
            "_model_module": "@jupyter-widgets/base",
            "_model_module_version": "1.2.0",
            "_model_name": "LayoutModel",
            "_view_count": null,
            "_view_module": "@jupyter-widgets/base",
            "_view_module_version": "1.2.0",
            "_view_name": "LayoutView",
            "align_content": null,
            "align_items": null,
            "align_self": null,
            "border": null,
            "bottom": null,
            "display": null,
            "flex": null,
            "flex_flow": null,
            "grid_area": null,
            "grid_auto_columns": null,
            "grid_auto_flow": null,
            "grid_auto_rows": null,
            "grid_column": null,
            "grid_gap": null,
            "grid_row": null,
            "grid_template_areas": null,
            "grid_template_columns": null,
            "grid_template_rows": null,
            "height": null,
            "justify_content": null,
            "justify_items": null,
            "left": null,
            "margin": null,
            "max_height": null,
            "max_width": null,
            "min_height": null,
            "min_width": null,
            "object_fit": null,
            "object_position": null,
            "order": null,
            "overflow": null,
            "overflow_x": null,
            "overflow_y": null,
            "padding": null,
            "right": null,
            "top": null,
            "visibility": null,
            "width": null
          }
        },
        "62880ce77b884d6cb792990998a5839e": {
          "model_module": "@jupyter-widgets/controls",
          "model_name": "DescriptionStyleModel",
          "model_module_version": "1.5.0",
          "state": {
            "_model_module": "@jupyter-widgets/controls",
            "_model_module_version": "1.5.0",
            "_model_name": "DescriptionStyleModel",
            "_view_count": null,
            "_view_module": "@jupyter-widgets/base",
            "_view_module_version": "1.2.0",
            "_view_name": "StyleView",
            "description_width": ""
          }
        },
        "4c0215b4a8f74276904f78af5afba3b3": {
          "model_module": "@jupyter-widgets/base",
          "model_name": "LayoutModel",
          "model_module_version": "1.2.0",
          "state": {
            "_model_module": "@jupyter-widgets/base",
            "_model_module_version": "1.2.0",
            "_model_name": "LayoutModel",
            "_view_count": null,
            "_view_module": "@jupyter-widgets/base",
            "_view_module_version": "1.2.0",
            "_view_name": "LayoutView",
            "align_content": null,
            "align_items": null,
            "align_self": null,
            "border": null,
            "bottom": null,
            "display": null,
            "flex": null,
            "flex_flow": null,
            "grid_area": null,
            "grid_auto_columns": null,
            "grid_auto_flow": null,
            "grid_auto_rows": null,
            "grid_column": null,
            "grid_gap": null,
            "grid_row": null,
            "grid_template_areas": null,
            "grid_template_columns": null,
            "grid_template_rows": null,
            "height": null,
            "justify_content": null,
            "justify_items": null,
            "left": null,
            "margin": null,
            "max_height": null,
            "max_width": null,
            "min_height": null,
            "min_width": null,
            "object_fit": null,
            "object_position": null,
            "order": null,
            "overflow": null,
            "overflow_x": null,
            "overflow_y": null,
            "padding": null,
            "right": null,
            "top": null,
            "visibility": null,
            "width": "20px"
          }
        },
        "6ba76e1535d7497689bad930b30f8b06": {
          "model_module": "@jupyter-widgets/controls",
          "model_name": "ProgressStyleModel",
          "model_module_version": "1.5.0",
          "state": {
            "_model_module": "@jupyter-widgets/controls",
            "_model_module_version": "1.5.0",
            "_model_name": "ProgressStyleModel",
            "_view_count": null,
            "_view_module": "@jupyter-widgets/base",
            "_view_module_version": "1.2.0",
            "_view_name": "StyleView",
            "bar_color": null,
            "description_width": ""
          }
        },
        "26fc8549bc9840f09b81d05f7ec66aef": {
          "model_module": "@jupyter-widgets/base",
          "model_name": "LayoutModel",
          "model_module_version": "1.2.0",
          "state": {
            "_model_module": "@jupyter-widgets/base",
            "_model_module_version": "1.2.0",
            "_model_name": "LayoutModel",
            "_view_count": null,
            "_view_module": "@jupyter-widgets/base",
            "_view_module_version": "1.2.0",
            "_view_name": "LayoutView",
            "align_content": null,
            "align_items": null,
            "align_self": null,
            "border": null,
            "bottom": null,
            "display": null,
            "flex": null,
            "flex_flow": null,
            "grid_area": null,
            "grid_auto_columns": null,
            "grid_auto_flow": null,
            "grid_auto_rows": null,
            "grid_column": null,
            "grid_gap": null,
            "grid_row": null,
            "grid_template_areas": null,
            "grid_template_columns": null,
            "grid_template_rows": null,
            "height": null,
            "justify_content": null,
            "justify_items": null,
            "left": null,
            "margin": null,
            "max_height": null,
            "max_width": null,
            "min_height": null,
            "min_width": null,
            "object_fit": null,
            "object_position": null,
            "order": null,
            "overflow": null,
            "overflow_x": null,
            "overflow_y": null,
            "padding": null,
            "right": null,
            "top": null,
            "visibility": null,
            "width": null
          }
        },
        "c773fd6873494fa78318a1677ee7c4bd": {
          "model_module": "@jupyter-widgets/controls",
          "model_name": "DescriptionStyleModel",
          "model_module_version": "1.5.0",
          "state": {
            "_model_module": "@jupyter-widgets/controls",
            "_model_module_version": "1.5.0",
            "_model_name": "DescriptionStyleModel",
            "_view_count": null,
            "_view_module": "@jupyter-widgets/base",
            "_view_module_version": "1.2.0",
            "_view_name": "StyleView",
            "description_width": ""
          }
        },
        "9eeb77abc4d645c590434183cced794d": {
          "model_module": "@jupyter-widgets/controls",
          "model_name": "HBoxModel",
          "model_module_version": "1.5.0",
          "state": {
            "_dom_classes": [],
            "_model_module": "@jupyter-widgets/controls",
            "_model_module_version": "1.5.0",
            "_model_name": "HBoxModel",
            "_view_count": null,
            "_view_module": "@jupyter-widgets/controls",
            "_view_module_version": "1.5.0",
            "_view_name": "HBoxView",
            "box_style": "",
            "children": [
              "IPY_MODEL_d529c9fba34d430d8a019a5669c230b0",
              "IPY_MODEL_9641358cc8744383a92d2bbc8c93fa07",
              "IPY_MODEL_94f30cf8c21a408f8b50402e7ca4d02b"
            ],
            "layout": "IPY_MODEL_24b61d2a3bc3438b86187ec0628ce262"
          }
        },
        "d529c9fba34d430d8a019a5669c230b0": {
          "model_module": "@jupyter-widgets/controls",
          "model_name": "HTMLModel",
          "model_module_version": "1.5.0",
          "state": {
            "_dom_classes": [],
            "_model_module": "@jupyter-widgets/controls",
            "_model_module_version": "1.5.0",
            "_model_name": "HTMLModel",
            "_view_count": null,
            "_view_module": "@jupyter-widgets/controls",
            "_view_module_version": "1.5.0",
            "_view_name": "HTMLView",
            "description": "",
            "description_tooltip": null,
            "layout": "IPY_MODEL_28e3b403721b4e32a4d11309825635a5",
            "placeholder": "​",
            "style": "IPY_MODEL_ab1c53402b4a44288984e37d40b87cf6",
            "value": "Generating splits...: 100%"
          }
        },
        "9641358cc8744383a92d2bbc8c93fa07": {
          "model_module": "@jupyter-widgets/controls",
          "model_name": "FloatProgressModel",
          "model_module_version": "1.5.0",
          "state": {
            "_dom_classes": [],
            "_model_module": "@jupyter-widgets/controls",
            "_model_module_version": "1.5.0",
            "_model_name": "FloatProgressModel",
            "_view_count": null,
            "_view_module": "@jupyter-widgets/controls",
            "_view_module_version": "1.5.0",
            "_view_name": "ProgressView",
            "bar_style": "",
            "description": "",
            "description_tooltip": null,
            "layout": "IPY_MODEL_b21fe797289a45babf2a2127eb11e16a",
            "max": 1,
            "min": 0,
            "orientation": "horizontal",
            "style": "IPY_MODEL_8073aef489ba4ffcacf347ed0e461208",
            "value": 1
          }
        },
        "94f30cf8c21a408f8b50402e7ca4d02b": {
          "model_module": "@jupyter-widgets/controls",
          "model_name": "HTMLModel",
          "model_module_version": "1.5.0",
          "state": {
            "_dom_classes": [],
            "_model_module": "@jupyter-widgets/controls",
            "_model_module_version": "1.5.0",
            "_model_name": "HTMLModel",
            "_view_count": null,
            "_view_module": "@jupyter-widgets/controls",
            "_view_module_version": "1.5.0",
            "_view_name": "HTMLView",
            "description": "",
            "description_tooltip": null,
            "layout": "IPY_MODEL_e8a3b0302c544cb395896c752b5c3816",
            "placeholder": "​",
            "style": "IPY_MODEL_01217fe7597a4bcdbc1e6ffe6e23918e",
            "value": " 1/1 [00:08&lt;00:00,  8.15s/ splits]"
          }
        },
        "24b61d2a3bc3438b86187ec0628ce262": {
          "model_module": "@jupyter-widgets/base",
          "model_name": "LayoutModel",
          "model_module_version": "1.2.0",
          "state": {
            "_model_module": "@jupyter-widgets/base",
            "_model_module_version": "1.2.0",
            "_model_name": "LayoutModel",
            "_view_count": null,
            "_view_module": "@jupyter-widgets/base",
            "_view_module_version": "1.2.0",
            "_view_name": "LayoutView",
            "align_content": null,
            "align_items": null,
            "align_self": null,
            "border": null,
            "bottom": null,
            "display": null,
            "flex": null,
            "flex_flow": null,
            "grid_area": null,
            "grid_auto_columns": null,
            "grid_auto_flow": null,
            "grid_auto_rows": null,
            "grid_column": null,
            "grid_gap": null,
            "grid_row": null,
            "grid_template_areas": null,
            "grid_template_columns": null,
            "grid_template_rows": null,
            "height": null,
            "justify_content": null,
            "justify_items": null,
            "left": null,
            "margin": null,
            "max_height": null,
            "max_width": null,
            "min_height": null,
            "min_width": null,
            "object_fit": null,
            "object_position": null,
            "order": null,
            "overflow": null,
            "overflow_x": null,
            "overflow_y": null,
            "padding": null,
            "right": null,
            "top": null,
            "visibility": "hidden",
            "width": null
          }
        },
        "28e3b403721b4e32a4d11309825635a5": {
          "model_module": "@jupyter-widgets/base",
          "model_name": "LayoutModel",
          "model_module_version": "1.2.0",
          "state": {
            "_model_module": "@jupyter-widgets/base",
            "_model_module_version": "1.2.0",
            "_model_name": "LayoutModel",
            "_view_count": null,
            "_view_module": "@jupyter-widgets/base",
            "_view_module_version": "1.2.0",
            "_view_name": "LayoutView",
            "align_content": null,
            "align_items": null,
            "align_self": null,
            "border": null,
            "bottom": null,
            "display": null,
            "flex": null,
            "flex_flow": null,
            "grid_area": null,
            "grid_auto_columns": null,
            "grid_auto_flow": null,
            "grid_auto_rows": null,
            "grid_column": null,
            "grid_gap": null,
            "grid_row": null,
            "grid_template_areas": null,
            "grid_template_columns": null,
            "grid_template_rows": null,
            "height": null,
            "justify_content": null,
            "justify_items": null,
            "left": null,
            "margin": null,
            "max_height": null,
            "max_width": null,
            "min_height": null,
            "min_width": null,
            "object_fit": null,
            "object_position": null,
            "order": null,
            "overflow": null,
            "overflow_x": null,
            "overflow_y": null,
            "padding": null,
            "right": null,
            "top": null,
            "visibility": null,
            "width": null
          }
        },
        "ab1c53402b4a44288984e37d40b87cf6": {
          "model_module": "@jupyter-widgets/controls",
          "model_name": "DescriptionStyleModel",
          "model_module_version": "1.5.0",
          "state": {
            "_model_module": "@jupyter-widgets/controls",
            "_model_module_version": "1.5.0",
            "_model_name": "DescriptionStyleModel",
            "_view_count": null,
            "_view_module": "@jupyter-widgets/base",
            "_view_module_version": "1.2.0",
            "_view_name": "StyleView",
            "description_width": ""
          }
        },
        "b21fe797289a45babf2a2127eb11e16a": {
          "model_module": "@jupyter-widgets/base",
          "model_name": "LayoutModel",
          "model_module_version": "1.2.0",
          "state": {
            "_model_module": "@jupyter-widgets/base",
            "_model_module_version": "1.2.0",
            "_model_name": "LayoutModel",
            "_view_count": null,
            "_view_module": "@jupyter-widgets/base",
            "_view_module_version": "1.2.0",
            "_view_name": "LayoutView",
            "align_content": null,
            "align_items": null,
            "align_self": null,
            "border": null,
            "bottom": null,
            "display": null,
            "flex": null,
            "flex_flow": null,
            "grid_area": null,
            "grid_auto_columns": null,
            "grid_auto_flow": null,
            "grid_auto_rows": null,
            "grid_column": null,
            "grid_gap": null,
            "grid_row": null,
            "grid_template_areas": null,
            "grid_template_columns": null,
            "grid_template_rows": null,
            "height": null,
            "justify_content": null,
            "justify_items": null,
            "left": null,
            "margin": null,
            "max_height": null,
            "max_width": null,
            "min_height": null,
            "min_width": null,
            "object_fit": null,
            "object_position": null,
            "order": null,
            "overflow": null,
            "overflow_x": null,
            "overflow_y": null,
            "padding": null,
            "right": null,
            "top": null,
            "visibility": null,
            "width": null
          }
        },
        "8073aef489ba4ffcacf347ed0e461208": {
          "model_module": "@jupyter-widgets/controls",
          "model_name": "ProgressStyleModel",
          "model_module_version": "1.5.0",
          "state": {
            "_model_module": "@jupyter-widgets/controls",
            "_model_module_version": "1.5.0",
            "_model_name": "ProgressStyleModel",
            "_view_count": null,
            "_view_module": "@jupyter-widgets/base",
            "_view_module_version": "1.2.0",
            "_view_name": "StyleView",
            "bar_color": null,
            "description_width": ""
          }
        },
        "e8a3b0302c544cb395896c752b5c3816": {
          "model_module": "@jupyter-widgets/base",
          "model_name": "LayoutModel",
          "model_module_version": "1.2.0",
          "state": {
            "_model_module": "@jupyter-widgets/base",
            "_model_module_version": "1.2.0",
            "_model_name": "LayoutModel",
            "_view_count": null,
            "_view_module": "@jupyter-widgets/base",
            "_view_module_version": "1.2.0",
            "_view_name": "LayoutView",
            "align_content": null,
            "align_items": null,
            "align_self": null,
            "border": null,
            "bottom": null,
            "display": null,
            "flex": null,
            "flex_flow": null,
            "grid_area": null,
            "grid_auto_columns": null,
            "grid_auto_flow": null,
            "grid_auto_rows": null,
            "grid_column": null,
            "grid_gap": null,
            "grid_row": null,
            "grid_template_areas": null,
            "grid_template_columns": null,
            "grid_template_rows": null,
            "height": null,
            "justify_content": null,
            "justify_items": null,
            "left": null,
            "margin": null,
            "max_height": null,
            "max_width": null,
            "min_height": null,
            "min_width": null,
            "object_fit": null,
            "object_position": null,
            "order": null,
            "overflow": null,
            "overflow_x": null,
            "overflow_y": null,
            "padding": null,
            "right": null,
            "top": null,
            "visibility": null,
            "width": null
          }
        },
        "01217fe7597a4bcdbc1e6ffe6e23918e": {
          "model_module": "@jupyter-widgets/controls",
          "model_name": "DescriptionStyleModel",
          "model_module_version": "1.5.0",
          "state": {
            "_model_module": "@jupyter-widgets/controls",
            "_model_module_version": "1.5.0",
            "_model_name": "DescriptionStyleModel",
            "_view_count": null,
            "_view_module": "@jupyter-widgets/base",
            "_view_module_version": "1.2.0",
            "_view_name": "StyleView",
            "description_width": ""
          }
        },
        "6264954848524580bd4cf28d6a3b40b3": {
          "model_module": "@jupyter-widgets/controls",
          "model_name": "HBoxModel",
          "model_module_version": "1.5.0",
          "state": {
            "_dom_classes": [],
            "_model_module": "@jupyter-widgets/controls",
            "_model_module_version": "1.5.0",
            "_model_name": "HBoxModel",
            "_view_count": null,
            "_view_module": "@jupyter-widgets/controls",
            "_view_module_version": "1.5.0",
            "_view_name": "HBoxView",
            "box_style": "",
            "children": [
              "IPY_MODEL_0c960e090de14be483dd3ef9ce4f1515",
              "IPY_MODEL_eadcd04348b34ee6b779b3afe6f45d7b",
              "IPY_MODEL_cf9db08a0ceb4caeb68d69a2d131d860"
            ],
            "layout": "IPY_MODEL_842ec9d925f647858c6017e029591788"
          }
        },
        "0c960e090de14be483dd3ef9ce4f1515": {
          "model_module": "@jupyter-widgets/controls",
          "model_name": "HTMLModel",
          "model_module_version": "1.5.0",
          "state": {
            "_dom_classes": [],
            "_model_module": "@jupyter-widgets/controls",
            "_model_module_version": "1.5.0",
            "_model_name": "HTMLModel",
            "_view_count": null,
            "_view_module": "@jupyter-widgets/controls",
            "_view_module_version": "1.5.0",
            "_view_name": "HTMLView",
            "description": "",
            "description_tooltip": null,
            "layout": "IPY_MODEL_23be4ffb95e34d75a8b690a19ba77b20",
            "placeholder": "​",
            "style": "IPY_MODEL_c9adf2f065934bfb9f2e71e4a8dbe81d",
            "value": "Generating train examples...: 100%"
          }
        },
        "eadcd04348b34ee6b779b3afe6f45d7b": {
          "model_module": "@jupyter-widgets/controls",
          "model_name": "FloatProgressModel",
          "model_module_version": "1.5.0",
          "state": {
            "_dom_classes": [],
            "_model_module": "@jupyter-widgets/controls",
            "_model_module_version": "1.5.0",
            "_model_name": "FloatProgressModel",
            "_view_count": null,
            "_view_module": "@jupyter-widgets/controls",
            "_view_module_version": "1.5.0",
            "_view_name": "ProgressView",
            "bar_style": "",
            "description": "",
            "description_tooltip": null,
            "layout": "IPY_MODEL_80cae3fd8425407c829550396cf261a6",
            "max": 27558,
            "min": 0,
            "orientation": "horizontal",
            "style": "IPY_MODEL_947fd5d43b144267acf17f172a54778a",
            "value": 27558
          }
        },
        "cf9db08a0ceb4caeb68d69a2d131d860": {
          "model_module": "@jupyter-widgets/controls",
          "model_name": "HTMLModel",
          "model_module_version": "1.5.0",
          "state": {
            "_dom_classes": [],
            "_model_module": "@jupyter-widgets/controls",
            "_model_module_version": "1.5.0",
            "_model_name": "HTMLModel",
            "_view_count": null,
            "_view_module": "@jupyter-widgets/controls",
            "_view_module_version": "1.5.0",
            "_view_name": "HTMLView",
            "description": "",
            "description_tooltip": null,
            "layout": "IPY_MODEL_253b0e138632451fb2f3d54e2cd0d2a0",
            "placeholder": "​",
            "style": "IPY_MODEL_e5b0afa0eb8c41caa06e35bb2757aa4e",
            "value": " 27545/27558 [00:07&lt;00:00, 5505.08 examples/s]"
          }
        },
        "842ec9d925f647858c6017e029591788": {
          "model_module": "@jupyter-widgets/base",
          "model_name": "LayoutModel",
          "model_module_version": "1.2.0",
          "state": {
            "_model_module": "@jupyter-widgets/base",
            "_model_module_version": "1.2.0",
            "_model_name": "LayoutModel",
            "_view_count": null,
            "_view_module": "@jupyter-widgets/base",
            "_view_module_version": "1.2.0",
            "_view_name": "LayoutView",
            "align_content": null,
            "align_items": null,
            "align_self": null,
            "border": null,
            "bottom": null,
            "display": null,
            "flex": null,
            "flex_flow": null,
            "grid_area": null,
            "grid_auto_columns": null,
            "grid_auto_flow": null,
            "grid_auto_rows": null,
            "grid_column": null,
            "grid_gap": null,
            "grid_row": null,
            "grid_template_areas": null,
            "grid_template_columns": null,
            "grid_template_rows": null,
            "height": null,
            "justify_content": null,
            "justify_items": null,
            "left": null,
            "margin": null,
            "max_height": null,
            "max_width": null,
            "min_height": null,
            "min_width": null,
            "object_fit": null,
            "object_position": null,
            "order": null,
            "overflow": null,
            "overflow_x": null,
            "overflow_y": null,
            "padding": null,
            "right": null,
            "top": null,
            "visibility": "hidden",
            "width": null
          }
        },
        "23be4ffb95e34d75a8b690a19ba77b20": {
          "model_module": "@jupyter-widgets/base",
          "model_name": "LayoutModel",
          "model_module_version": "1.2.0",
          "state": {
            "_model_module": "@jupyter-widgets/base",
            "_model_module_version": "1.2.0",
            "_model_name": "LayoutModel",
            "_view_count": null,
            "_view_module": "@jupyter-widgets/base",
            "_view_module_version": "1.2.0",
            "_view_name": "LayoutView",
            "align_content": null,
            "align_items": null,
            "align_self": null,
            "border": null,
            "bottom": null,
            "display": null,
            "flex": null,
            "flex_flow": null,
            "grid_area": null,
            "grid_auto_columns": null,
            "grid_auto_flow": null,
            "grid_auto_rows": null,
            "grid_column": null,
            "grid_gap": null,
            "grid_row": null,
            "grid_template_areas": null,
            "grid_template_columns": null,
            "grid_template_rows": null,
            "height": null,
            "justify_content": null,
            "justify_items": null,
            "left": null,
            "margin": null,
            "max_height": null,
            "max_width": null,
            "min_height": null,
            "min_width": null,
            "object_fit": null,
            "object_position": null,
            "order": null,
            "overflow": null,
            "overflow_x": null,
            "overflow_y": null,
            "padding": null,
            "right": null,
            "top": null,
            "visibility": null,
            "width": null
          }
        },
        "c9adf2f065934bfb9f2e71e4a8dbe81d": {
          "model_module": "@jupyter-widgets/controls",
          "model_name": "DescriptionStyleModel",
          "model_module_version": "1.5.0",
          "state": {
            "_model_module": "@jupyter-widgets/controls",
            "_model_module_version": "1.5.0",
            "_model_name": "DescriptionStyleModel",
            "_view_count": null,
            "_view_module": "@jupyter-widgets/base",
            "_view_module_version": "1.2.0",
            "_view_name": "StyleView",
            "description_width": ""
          }
        },
        "80cae3fd8425407c829550396cf261a6": {
          "model_module": "@jupyter-widgets/base",
          "model_name": "LayoutModel",
          "model_module_version": "1.2.0",
          "state": {
            "_model_module": "@jupyter-widgets/base",
            "_model_module_version": "1.2.0",
            "_model_name": "LayoutModel",
            "_view_count": null,
            "_view_module": "@jupyter-widgets/base",
            "_view_module_version": "1.2.0",
            "_view_name": "LayoutView",
            "align_content": null,
            "align_items": null,
            "align_self": null,
            "border": null,
            "bottom": null,
            "display": null,
            "flex": null,
            "flex_flow": null,
            "grid_area": null,
            "grid_auto_columns": null,
            "grid_auto_flow": null,
            "grid_auto_rows": null,
            "grid_column": null,
            "grid_gap": null,
            "grid_row": null,
            "grid_template_areas": null,
            "grid_template_columns": null,
            "grid_template_rows": null,
            "height": null,
            "justify_content": null,
            "justify_items": null,
            "left": null,
            "margin": null,
            "max_height": null,
            "max_width": null,
            "min_height": null,
            "min_width": null,
            "object_fit": null,
            "object_position": null,
            "order": null,
            "overflow": null,
            "overflow_x": null,
            "overflow_y": null,
            "padding": null,
            "right": null,
            "top": null,
            "visibility": null,
            "width": null
          }
        },
        "947fd5d43b144267acf17f172a54778a": {
          "model_module": "@jupyter-widgets/controls",
          "model_name": "ProgressStyleModel",
          "model_module_version": "1.5.0",
          "state": {
            "_model_module": "@jupyter-widgets/controls",
            "_model_module_version": "1.5.0",
            "_model_name": "ProgressStyleModel",
            "_view_count": null,
            "_view_module": "@jupyter-widgets/base",
            "_view_module_version": "1.2.0",
            "_view_name": "StyleView",
            "bar_color": null,
            "description_width": ""
          }
        },
        "253b0e138632451fb2f3d54e2cd0d2a0": {
          "model_module": "@jupyter-widgets/base",
          "model_name": "LayoutModel",
          "model_module_version": "1.2.0",
          "state": {
            "_model_module": "@jupyter-widgets/base",
            "_model_module_version": "1.2.0",
            "_model_name": "LayoutModel",
            "_view_count": null,
            "_view_module": "@jupyter-widgets/base",
            "_view_module_version": "1.2.0",
            "_view_name": "LayoutView",
            "align_content": null,
            "align_items": null,
            "align_self": null,
            "border": null,
            "bottom": null,
            "display": null,
            "flex": null,
            "flex_flow": null,
            "grid_area": null,
            "grid_auto_columns": null,
            "grid_auto_flow": null,
            "grid_auto_rows": null,
            "grid_column": null,
            "grid_gap": null,
            "grid_row": null,
            "grid_template_areas": null,
            "grid_template_columns": null,
            "grid_template_rows": null,
            "height": null,
            "justify_content": null,
            "justify_items": null,
            "left": null,
            "margin": null,
            "max_height": null,
            "max_width": null,
            "min_height": null,
            "min_width": null,
            "object_fit": null,
            "object_position": null,
            "order": null,
            "overflow": null,
            "overflow_x": null,
            "overflow_y": null,
            "padding": null,
            "right": null,
            "top": null,
            "visibility": null,
            "width": null
          }
        },
        "e5b0afa0eb8c41caa06e35bb2757aa4e": {
          "model_module": "@jupyter-widgets/controls",
          "model_name": "DescriptionStyleModel",
          "model_module_version": "1.5.0",
          "state": {
            "_model_module": "@jupyter-widgets/controls",
            "_model_module_version": "1.5.0",
            "_model_name": "DescriptionStyleModel",
            "_view_count": null,
            "_view_module": "@jupyter-widgets/base",
            "_view_module_version": "1.2.0",
            "_view_name": "StyleView",
            "description_width": ""
          }
        },
        "f7cbaa0a2f75418da22fa9db47431d28": {
          "model_module": "@jupyter-widgets/controls",
          "model_name": "HBoxModel",
          "model_module_version": "1.5.0",
          "state": {
            "_dom_classes": [],
            "_model_module": "@jupyter-widgets/controls",
            "_model_module_version": "1.5.0",
            "_model_name": "HBoxModel",
            "_view_count": null,
            "_view_module": "@jupyter-widgets/controls",
            "_view_module_version": "1.5.0",
            "_view_name": "HBoxView",
            "box_style": "",
            "children": [
              "IPY_MODEL_b38e1346f9d8404f891c0d56f09ac3cd",
              "IPY_MODEL_4968b0ece08a40a481cc9887a1547d50",
              "IPY_MODEL_bbd7c6071ca94495be0b4ca2efe83236"
            ],
            "layout": "IPY_MODEL_0eaf75b82f50432d909ed6ad24715ff5"
          }
        },
        "b38e1346f9d8404f891c0d56f09ac3cd": {
          "model_module": "@jupyter-widgets/controls",
          "model_name": "HTMLModel",
          "model_module_version": "1.5.0",
          "state": {
            "_dom_classes": [],
            "_model_module": "@jupyter-widgets/controls",
            "_model_module_version": "1.5.0",
            "_model_name": "HTMLModel",
            "_view_count": null,
            "_view_module": "@jupyter-widgets/controls",
            "_view_module_version": "1.5.0",
            "_view_name": "HTMLView",
            "description": "",
            "description_tooltip": null,
            "layout": "IPY_MODEL_c42f4a7d792b4419879dbc241a4614fa",
            "placeholder": "​",
            "style": "IPY_MODEL_418fda297a4548159e8da7c290607587",
            "value": "Shuffling /root/tensorflow_datasets/malaria/1.0.0.incompleteSRG5LL/malaria-train.tfrecord*...:  87%"
          }
        },
        "4968b0ece08a40a481cc9887a1547d50": {
          "model_module": "@jupyter-widgets/controls",
          "model_name": "FloatProgressModel",
          "model_module_version": "1.5.0",
          "state": {
            "_dom_classes": [],
            "_model_module": "@jupyter-widgets/controls",
            "_model_module_version": "1.5.0",
            "_model_name": "FloatProgressModel",
            "_view_count": null,
            "_view_module": "@jupyter-widgets/controls",
            "_view_module_version": "1.5.0",
            "_view_name": "ProgressView",
            "bar_style": "",
            "description": "",
            "description_tooltip": null,
            "layout": "IPY_MODEL_a4946cff7d1a4f5080cfa2c7ac762a3e",
            "max": 27558,
            "min": 0,
            "orientation": "horizontal",
            "style": "IPY_MODEL_8b6e2336ca794e69be40da21b48c8cac",
            "value": 27558
          }
        },
        "bbd7c6071ca94495be0b4ca2efe83236": {
          "model_module": "@jupyter-widgets/controls",
          "model_name": "HTMLModel",
          "model_module_version": "1.5.0",
          "state": {
            "_dom_classes": [],
            "_model_module": "@jupyter-widgets/controls",
            "_model_module_version": "1.5.0",
            "_model_name": "HTMLModel",
            "_view_count": null,
            "_view_module": "@jupyter-widgets/controls",
            "_view_module_version": "1.5.0",
            "_view_name": "HTMLView",
            "description": "",
            "description_tooltip": null,
            "layout": "IPY_MODEL_b53d3d543bfa420bbed87ff7ee7b874e",
            "placeholder": "​",
            "style": "IPY_MODEL_7fc848b0d0c048f39f6807a4132a8a95",
            "value": " 23960/27558 [00:00&lt;00:00, 34415.42 examples/s]"
          }
        },
        "0eaf75b82f50432d909ed6ad24715ff5": {
          "model_module": "@jupyter-widgets/base",
          "model_name": "LayoutModel",
          "model_module_version": "1.2.0",
          "state": {
            "_model_module": "@jupyter-widgets/base",
            "_model_module_version": "1.2.0",
            "_model_name": "LayoutModel",
            "_view_count": null,
            "_view_module": "@jupyter-widgets/base",
            "_view_module_version": "1.2.0",
            "_view_name": "LayoutView",
            "align_content": null,
            "align_items": null,
            "align_self": null,
            "border": null,
            "bottom": null,
            "display": null,
            "flex": null,
            "flex_flow": null,
            "grid_area": null,
            "grid_auto_columns": null,
            "grid_auto_flow": null,
            "grid_auto_rows": null,
            "grid_column": null,
            "grid_gap": null,
            "grid_row": null,
            "grid_template_areas": null,
            "grid_template_columns": null,
            "grid_template_rows": null,
            "height": null,
            "justify_content": null,
            "justify_items": null,
            "left": null,
            "margin": null,
            "max_height": null,
            "max_width": null,
            "min_height": null,
            "min_width": null,
            "object_fit": null,
            "object_position": null,
            "order": null,
            "overflow": null,
            "overflow_x": null,
            "overflow_y": null,
            "padding": null,
            "right": null,
            "top": null,
            "visibility": "hidden",
            "width": null
          }
        },
        "c42f4a7d792b4419879dbc241a4614fa": {
          "model_module": "@jupyter-widgets/base",
          "model_name": "LayoutModel",
          "model_module_version": "1.2.0",
          "state": {
            "_model_module": "@jupyter-widgets/base",
            "_model_module_version": "1.2.0",
            "_model_name": "LayoutModel",
            "_view_count": null,
            "_view_module": "@jupyter-widgets/base",
            "_view_module_version": "1.2.0",
            "_view_name": "LayoutView",
            "align_content": null,
            "align_items": null,
            "align_self": null,
            "border": null,
            "bottom": null,
            "display": null,
            "flex": null,
            "flex_flow": null,
            "grid_area": null,
            "grid_auto_columns": null,
            "grid_auto_flow": null,
            "grid_auto_rows": null,
            "grid_column": null,
            "grid_gap": null,
            "grid_row": null,
            "grid_template_areas": null,
            "grid_template_columns": null,
            "grid_template_rows": null,
            "height": null,
            "justify_content": null,
            "justify_items": null,
            "left": null,
            "margin": null,
            "max_height": null,
            "max_width": null,
            "min_height": null,
            "min_width": null,
            "object_fit": null,
            "object_position": null,
            "order": null,
            "overflow": null,
            "overflow_x": null,
            "overflow_y": null,
            "padding": null,
            "right": null,
            "top": null,
            "visibility": null,
            "width": null
          }
        },
        "418fda297a4548159e8da7c290607587": {
          "model_module": "@jupyter-widgets/controls",
          "model_name": "DescriptionStyleModel",
          "model_module_version": "1.5.0",
          "state": {
            "_model_module": "@jupyter-widgets/controls",
            "_model_module_version": "1.5.0",
            "_model_name": "DescriptionStyleModel",
            "_view_count": null,
            "_view_module": "@jupyter-widgets/base",
            "_view_module_version": "1.2.0",
            "_view_name": "StyleView",
            "description_width": ""
          }
        },
        "a4946cff7d1a4f5080cfa2c7ac762a3e": {
          "model_module": "@jupyter-widgets/base",
          "model_name": "LayoutModel",
          "model_module_version": "1.2.0",
          "state": {
            "_model_module": "@jupyter-widgets/base",
            "_model_module_version": "1.2.0",
            "_model_name": "LayoutModel",
            "_view_count": null,
            "_view_module": "@jupyter-widgets/base",
            "_view_module_version": "1.2.0",
            "_view_name": "LayoutView",
            "align_content": null,
            "align_items": null,
            "align_self": null,
            "border": null,
            "bottom": null,
            "display": null,
            "flex": null,
            "flex_flow": null,
            "grid_area": null,
            "grid_auto_columns": null,
            "grid_auto_flow": null,
            "grid_auto_rows": null,
            "grid_column": null,
            "grid_gap": null,
            "grid_row": null,
            "grid_template_areas": null,
            "grid_template_columns": null,
            "grid_template_rows": null,
            "height": null,
            "justify_content": null,
            "justify_items": null,
            "left": null,
            "margin": null,
            "max_height": null,
            "max_width": null,
            "min_height": null,
            "min_width": null,
            "object_fit": null,
            "object_position": null,
            "order": null,
            "overflow": null,
            "overflow_x": null,
            "overflow_y": null,
            "padding": null,
            "right": null,
            "top": null,
            "visibility": null,
            "width": null
          }
        },
        "8b6e2336ca794e69be40da21b48c8cac": {
          "model_module": "@jupyter-widgets/controls",
          "model_name": "ProgressStyleModel",
          "model_module_version": "1.5.0",
          "state": {
            "_model_module": "@jupyter-widgets/controls",
            "_model_module_version": "1.5.0",
            "_model_name": "ProgressStyleModel",
            "_view_count": null,
            "_view_module": "@jupyter-widgets/base",
            "_view_module_version": "1.2.0",
            "_view_name": "StyleView",
            "bar_color": null,
            "description_width": ""
          }
        },
        "b53d3d543bfa420bbed87ff7ee7b874e": {
          "model_module": "@jupyter-widgets/base",
          "model_name": "LayoutModel",
          "model_module_version": "1.2.0",
          "state": {
            "_model_module": "@jupyter-widgets/base",
            "_model_module_version": "1.2.0",
            "_model_name": "LayoutModel",
            "_view_count": null,
            "_view_module": "@jupyter-widgets/base",
            "_view_module_version": "1.2.0",
            "_view_name": "LayoutView",
            "align_content": null,
            "align_items": null,
            "align_self": null,
            "border": null,
            "bottom": null,
            "display": null,
            "flex": null,
            "flex_flow": null,
            "grid_area": null,
            "grid_auto_columns": null,
            "grid_auto_flow": null,
            "grid_auto_rows": null,
            "grid_column": null,
            "grid_gap": null,
            "grid_row": null,
            "grid_template_areas": null,
            "grid_template_columns": null,
            "grid_template_rows": null,
            "height": null,
            "justify_content": null,
            "justify_items": null,
            "left": null,
            "margin": null,
            "max_height": null,
            "max_width": null,
            "min_height": null,
            "min_width": null,
            "object_fit": null,
            "object_position": null,
            "order": null,
            "overflow": null,
            "overflow_x": null,
            "overflow_y": null,
            "padding": null,
            "right": null,
            "top": null,
            "visibility": null,
            "width": null
          }
        },
        "7fc848b0d0c048f39f6807a4132a8a95": {
          "model_module": "@jupyter-widgets/controls",
          "model_name": "DescriptionStyleModel",
          "model_module_version": "1.5.0",
          "state": {
            "_model_module": "@jupyter-widgets/controls",
            "_model_module_version": "1.5.0",
            "_model_name": "DescriptionStyleModel",
            "_view_count": null,
            "_view_module": "@jupyter-widgets/base",
            "_view_module_version": "1.2.0",
            "_view_name": "StyleView",
            "description_width": ""
          }
        }
      }
    }
  },
  "cells": [
    {
      "cell_type": "markdown",
      "metadata": {
        "id": "view-in-github",
        "colab_type": "text"
      },
      "source": [
        "<a href=\"https://colab.research.google.com/github/Userfound404/MachineLearning-101/blob/main/MalariaFunctionalAPI.ipynb\" target=\"_parent\"><img src=\"https://colab.research.google.com/assets/colab-badge.svg\" alt=\"Open In Colab\"/></a>"
      ]
    },
    {
      "cell_type": "code",
      "execution_count": null,
      "metadata": {
        "id": "li17vqOqdlHd"
      },
      "outputs": [],
      "source": [
        "import tensorflow as tf\n",
        "import numpy as np\n",
        "import matplotlib.pyplot as plt\n",
        "import tensorflow_datasets as tfds\n",
        "from tensorflow.keras.layers import Conv2D, MaxPool2D, Dense, Flatten, InputLayer, BatchNormalization, Input, Layer, Dropout, RandomFlip, RandomRotation, Resizing, Rescaling, RandomContrast\n",
        "from tensorflow.keras.models import Model\n",
        "from keras.engine.input_layer import InputLayer, Input\n",
        "from tensorflow.keras.metrics import Accuracy, FalsePositives, FalseNegatives, TruePositives, TrueNegatives, Precision, Recall, AUC, BinaryAccuracy\n",
        "from tensorflow.keras.losses import BinaryCrossentropy\n",
        "from tensorflow.keras.optimizers import Adam\n",
        "import sklearn\n",
        "from sklearn.metrics import confusion_matrix, roc_curve\n",
        "import seaborn as sns\n",
        "from google.colab import drive"
      ]
    },
    {
      "cell_type": "code",
      "source": [
        "dataset, dataset_info = tfds.load('malaria', with_info=True,\n",
        "                                  as_supervised=True,\n",
        "                                  shuffle_files = True,\n",
        "                                  split=['train'])"
      ],
      "metadata": {
        "id": "DnRaRlSkemOF",
        "colab": {
          "base_uri": "https://localhost:8080/",
          "height": 149,
          "referenced_widgets": [
            "93994eb1132e4031bca6e3a192c5967f",
            "1064ec12f2374405bb15710a814a286c",
            "e17ac816b4ba438da2be4322c9bd15f0",
            "f45e0e21d48041719f8ceb7f6a132e4f",
            "eadeaf29b01345d7871eaedd40d50bde",
            "21eb94f5f5224330b4ea6a9e371ffdcb",
            "22b446c5f1154f948887bfbe84250530",
            "81fdfbebf281465d987d70572e37a532",
            "e181609b24844050b15d448c223467e1",
            "9e3e78fe37634cdcacf20c2974db88f9",
            "54e0c916efaa4bdeb06f31637b354189",
            "2f58b3e7b77345ad8e167659da6fee46",
            "6363e56f7e6d43a8bec62483c229f833",
            "a3aa45a7c2b84af5b0d63fca3ca51dcd",
            "2f028ba9c4504bbd93a48bc4ba287148",
            "203e044c1fcb412980f02ef863effa70",
            "62e219eaf18b4e1cbb5bc346a274ad58",
            "441f3932b41b4bb58e5dfb56084b85dd",
            "c3adca9a290c4a258ce85eb447499eb6",
            "f227a3121dc149f28f113f0772c70886",
            "2a1a8330799246a3b51d9a4081b395e3",
            "12c0d93d09774e14905a2f852517b07d",
            "526a3f8f42504dcd9be6e07349020feb",
            "6d42fb309d4d4f859212976b7ae2c949",
            "464cc98c0ca445eba70dba31e6f5e8f7",
            "6fe8142cacfe4ffcbb23d558bb2bf4b3",
            "dca2a4a6cc754e688750e45333b3d05f",
            "4c8a580fe5364d29ab7ff50b1d9a90f2",
            "62880ce77b884d6cb792990998a5839e",
            "4c0215b4a8f74276904f78af5afba3b3",
            "6ba76e1535d7497689bad930b30f8b06",
            "26fc8549bc9840f09b81d05f7ec66aef",
            "c773fd6873494fa78318a1677ee7c4bd",
            "9eeb77abc4d645c590434183cced794d",
            "d529c9fba34d430d8a019a5669c230b0",
            "9641358cc8744383a92d2bbc8c93fa07",
            "94f30cf8c21a408f8b50402e7ca4d02b",
            "24b61d2a3bc3438b86187ec0628ce262",
            "28e3b403721b4e32a4d11309825635a5",
            "ab1c53402b4a44288984e37d40b87cf6",
            "b21fe797289a45babf2a2127eb11e16a",
            "8073aef489ba4ffcacf347ed0e461208",
            "e8a3b0302c544cb395896c752b5c3816",
            "01217fe7597a4bcdbc1e6ffe6e23918e",
            "6264954848524580bd4cf28d6a3b40b3",
            "0c960e090de14be483dd3ef9ce4f1515",
            "eadcd04348b34ee6b779b3afe6f45d7b",
            "cf9db08a0ceb4caeb68d69a2d131d860",
            "842ec9d925f647858c6017e029591788",
            "23be4ffb95e34d75a8b690a19ba77b20",
            "c9adf2f065934bfb9f2e71e4a8dbe81d",
            "80cae3fd8425407c829550396cf261a6",
            "947fd5d43b144267acf17f172a54778a",
            "253b0e138632451fb2f3d54e2cd0d2a0",
            "e5b0afa0eb8c41caa06e35bb2757aa4e",
            "f7cbaa0a2f75418da22fa9db47431d28",
            "b38e1346f9d8404f891c0d56f09ac3cd",
            "4968b0ece08a40a481cc9887a1547d50",
            "bbd7c6071ca94495be0b4ca2efe83236",
            "0eaf75b82f50432d909ed6ad24715ff5",
            "c42f4a7d792b4419879dbc241a4614fa",
            "418fda297a4548159e8da7c290607587",
            "a4946cff7d1a4f5080cfa2c7ac762a3e",
            "8b6e2336ca794e69be40da21b48c8cac",
            "b53d3d543bfa420bbed87ff7ee7b874e",
            "7fc848b0d0c048f39f6807a4132a8a95"
          ]
        },
        "outputId": "3c36f917-6f83-4885-d3fb-1d226a011313"
      },
      "execution_count": null,
      "outputs": [
        {
          "output_type": "stream",
          "name": "stdout",
          "text": [
            "Downloading and preparing dataset 337.08 MiB (download: 337.08 MiB, generated: Unknown size, total: 337.08 MiB) to /root/tensorflow_datasets/malaria/1.0.0...\n"
          ]
        },
        {
          "output_type": "display_data",
          "data": {
            "text/plain": [
              "Dl Completed...: 0 url [00:00, ? url/s]"
            ],
            "application/vnd.jupyter.widget-view+json": {
              "version_major": 2,
              "version_minor": 0,
              "model_id": "93994eb1132e4031bca6e3a192c5967f"
            }
          },
          "metadata": {}
        },
        {
          "output_type": "display_data",
          "data": {
            "text/plain": [
              "Dl Size...: 0 MiB [00:00, ? MiB/s]"
            ],
            "application/vnd.jupyter.widget-view+json": {
              "version_major": 2,
              "version_minor": 0,
              "model_id": "2f58b3e7b77345ad8e167659da6fee46"
            }
          },
          "metadata": {}
        },
        {
          "output_type": "display_data",
          "data": {
            "text/plain": [
              "Extraction completed...: 0 file [00:00, ? file/s]"
            ],
            "application/vnd.jupyter.widget-view+json": {
              "version_major": 2,
              "version_minor": 0,
              "model_id": "526a3f8f42504dcd9be6e07349020feb"
            }
          },
          "metadata": {}
        },
        {
          "output_type": "display_data",
          "data": {
            "text/plain": [
              "Generating splits...:   0%|          | 0/1 [00:00<?, ? splits/s]"
            ],
            "application/vnd.jupyter.widget-view+json": {
              "version_major": 2,
              "version_minor": 0,
              "model_id": "9eeb77abc4d645c590434183cced794d"
            }
          },
          "metadata": {}
        },
        {
          "output_type": "display_data",
          "data": {
            "text/plain": [
              "Generating train examples...:   0%|          | 0/27558 [00:00<?, ? examples/s]"
            ],
            "application/vnd.jupyter.widget-view+json": {
              "version_major": 2,
              "version_minor": 0,
              "model_id": "6264954848524580bd4cf28d6a3b40b3"
            }
          },
          "metadata": {}
        },
        {
          "output_type": "display_data",
          "data": {
            "text/plain": [
              "Shuffling /root/tensorflow_datasets/malaria/1.0.0.incompleteSRG5LL/malaria-train.tfrecord*...:   0%|          …"
            ],
            "application/vnd.jupyter.widget-view+json": {
              "version_major": 2,
              "version_minor": 0,
              "model_id": "f7cbaa0a2f75418da22fa9db47431d28"
            }
          },
          "metadata": {}
        },
        {
          "output_type": "stream",
          "name": "stdout",
          "text": [
            "Dataset malaria downloaded and prepared to /root/tensorflow_datasets/malaria/1.0.0. Subsequent calls will reuse this data.\n"
          ]
        }
      ]
    },
    {
      "cell_type": "code",
      "source": [
        "def splits(dataset, TRAIN_RATIO, VAL_RATIO, TEST_RATIO):\n",
        "  DATASET_SIZE = len(dataset)\n",
        "\n",
        "  train_dataset = dataset.take(int(TRAIN_RATIO*DATASET_SIZE))\n",
        "\n",
        "  val_test_dataset = dataset.skip(int(TRAIN_RATIO*DATASET_SIZE))\n",
        "  val_dataset = val_test_dataset.take(int(VAL_RATIO*DATASET_SIZE))\n",
        "\n",
        "  test_dataset = val_test_dataset.skip(int(VAL_RATIO*DATASET_SIZE))\n",
        "  return train_dataset, val_dataset, test_dataset"
      ],
      "metadata": {
        "id": "2gQp-KX0eqce"
      },
      "execution_count": null,
      "outputs": []
    },
    {
      "cell_type": "code",
      "source": [
        "TRAIN_RATIO = 0.8\n",
        "VAL_RATIO = 0.1\n",
        "TEST_RATIO = 0.1\n",
        "\n",
        "train_dataset, val_dataset, test_dataset = splits(dataset[0], TRAIN_RATIO, VAL_RATIO, TEST_RATIO )\n",
        "#print(list(train_dataset.take(1).as_numpy_iterator()),\n",
        " #     list(val_dataset.take(1).as_numpy_iterator()), list(test_dataset.take(1).as_numpy_iterator()))"
      ],
      "metadata": {
        "id": "I30LfuYCfKbv"
      },
      "execution_count": null,
      "outputs": []
    },
    {
      "cell_type": "code",
      "source": [
        "train_dataset"
      ],
      "metadata": {
        "colab": {
          "base_uri": "https://localhost:8080/"
        },
        "id": "Bf5wa1mc1BmP",
        "outputId": "ebc9177b-3163-4e00-efb6-571e40db1f59"
      },
      "execution_count": null,
      "outputs": [
        {
          "output_type": "execute_result",
          "data": {
            "text/plain": [
              "<_TakeDataset element_spec=(TensorSpec(shape=(None, None, 3), dtype=tf.uint8, name=None), TensorSpec(shape=(), dtype=tf.int64, name=None))>"
            ]
          },
          "metadata": {},
          "execution_count": 5
        }
      ]
    },
    {
      "cell_type": "code",
      "source": [
        "IM_SIZE =  224\n",
        "BATCH_SIZE = 32"
      ],
      "metadata": {
        "id": "ZPkWjRZZ1Sr_"
      },
      "execution_count": null,
      "outputs": []
    },
    {
      "cell_type": "code",
      "source": [
        "original_image, label = next(iter(train_dataset))\n",
        "@tf.function\n",
        "def resize_rescale(image, label):\n",
        "  return tf.image.resize(image, (IM_SIZE, IM_SIZE))/255.0, label\n",
        "\n",
        "_, _ = resize_rescale(original_image, label)\n",
        "_, _ = resize_rescale(original_image, label)"
      ],
      "metadata": {
        "id": "IWk4Gc3r1a3f"
      },
      "execution_count": null,
      "outputs": []
    },
    {
      "cell_type": "code",
      "source": [
        "@tf.function\n",
        "def augment(image, label):\n",
        "  image, label = resize_rescale(image, label)\n",
        "\n",
        "  image = tf.image.rot90(image)\n",
        "  #image = tf.image.adjust_saturation(image, saturation_factor = 0.3)\n",
        "  image = tf.image.flip_left_right(image)\n",
        "\n",
        "  return image, label"
      ],
      "metadata": {
        "id": "1c2kRKUH1ks3"
      },
      "execution_count": null,
      "outputs": []
    },
    {
      "cell_type": "code",
      "source": [
        "class RotNinety(Layer):\n",
        "  def __init__(self):\n",
        "    super().__init__()\n",
        "\n",
        "  @tf.function\n",
        "  def call(self, image):\n",
        "    return tf.image.rot90(image)"
      ],
      "metadata": {
        "id": "A4xCnooL1mcv"
      },
      "execution_count": null,
      "outputs": []
    },
    {
      "cell_type": "code",
      "source": [
        "resize_rescale_layers = tf.keras.Sequential([\n",
        "       Resizing(IM_SIZE, IM_SIZE),\n",
        "       Rescaling(1./255),\n",
        "])"
      ],
      "metadata": {
        "id": "9d3DHG382cku"
      },
      "execution_count": null,
      "outputs": []
    },
    {
      "cell_type": "code",
      "source": [
        "augment_layers = tf.keras.Sequential([\n",
        "       RandomRotation(factor = (0.25, 0.2501),),\n",
        "       RandomFlip(mode='horizontal',),\n",
        "       RandomContrast(factor=0.1),\n",
        "\n",
        "])\n",
        "\n",
        "@tf.function\n",
        "def augment_layer(image, label):\n",
        "  return augment_layers(resize_rescale_layers(image), training = True), label"
      ],
      "metadata": {
        "id": "x9S6wlg41oS_"
      },
      "execution_count": null,
      "outputs": []
    },
    {
      "cell_type": "code",
      "source": [
        "test_dataset = test_dataset.map(resize_rescale, num_parallel_calls = tf.data.AUTOTUNE)"
      ],
      "metadata": {
        "id": "IiVpreyM1UIf"
      },
      "execution_count": null,
      "outputs": []
    },
    {
      "cell_type": "code",
      "source": [
        "test_dataset"
      ],
      "metadata": {
        "colab": {
          "base_uri": "https://localhost:8080/"
        },
        "id": "vQX7JiTN2i4W",
        "outputId": "19b3ce86-17ba-44ea-fd7e-9e70c88c6760"
      },
      "execution_count": null,
      "outputs": [
        {
          "output_type": "execute_result",
          "data": {
            "text/plain": [
              "<_ParallelMapDataset element_spec=(TensorSpec(shape=(224, 224, 3), dtype=tf.float32, name=None), TensorSpec(shape=(), dtype=tf.int64, name=None))>"
            ]
          },
          "metadata": {},
          "execution_count": 13
        }
      ]
    },
    {
      "cell_type": "code",
      "source": [
        "train_dataset = (\n",
        "    train_dataset\n",
        "    .shuffle(buffer_size = 1024, reshuffle_each_iteration = True)\n",
        "    .map(augment_layer, num_parallel_calls = tf.data.AUTOTUNE)\n",
        "    .batch(BATCH_SIZE)\n",
        "    .prefetch(tf.data.AUTOTUNE)\n",
        ")"
      ],
      "metadata": {
        "id": "HbV8uNh52j_X"
      },
      "execution_count": null,
      "outputs": []
    },
    {
      "cell_type": "code",
      "source": [
        "val_dataset = (\n",
        "    val_dataset\n",
        "    .shuffle(buffer_size = 32)\n",
        "    .map(resize_rescale, num_parallel_calls = tf.data.AUTOTUNE)\n",
        "    .batch(BATCH_SIZE)\n",
        ")"
      ],
      "metadata": {
        "id": "uHRgypoQ2mp-"
      },
      "execution_count": null,
      "outputs": []
    },
    {
      "cell_type": "code",
      "source": [
        "\n",
        "def resizing_rescale(image, label):\n",
        "    return tf.image.resize(image, (IM_SIZE, IM_SIZE), method=tf.image.ResizeMethod.BILINEAR)/255.0, label"
      ],
      "metadata": {
        "id": "Ubo8TTqegEkx"
      },
      "execution_count": null,
      "outputs": []
    },
    {
      "cell_type": "code",
      "source": [
        "# train_dataset = train_dataset.map(resizing_rescale)\n",
        "# val_dataset = val_dataset.map(resizing_rescale)\n",
        "# test_dataset = test_dataset.map(resizing_rescale, num_parallel_calls = tf.data.AUTOTUNE).batch(BATCH_SIZE)\n",
        "# train_dataset = train_dataset.shuffle(buffer_size = 8, reshuffle_each_iteration = True).batch(BATCH_SIZE).prefetch(tf.data.AUTOTUNE)\n",
        "# val_dataset = val_dataset.shuffle(buffer_size = 8, reshuffle_each_iteration = True).batch(BATCH_SIZE).prefetch(tf.data.AUTOTUNE)"
      ],
      "metadata": {
        "id": "EvqrXcEJgQPs"
      },
      "execution_count": null,
      "outputs": []
    },
    {
      "cell_type": "code",
      "source": [
        "from keras.engine.input_layer import InputLayer\n",
        "Lunette_model = tf.keras.Sequential([\n",
        "    InputLayer(input_shape = (IM_SIZE, IM_SIZE, 3)),\n",
        "    Conv2D(filters = 6, kernel_size = 5, strides = 1, padding = 'valid', activation = 'sigmoid'),\n",
        "    MaxPool2D(pool_size = 2, strides = 2),\n",
        "    Conv2D(filters = 16, kernel_size = 5, strides = 1, padding = 'valid', activation = 'sigmoid'),\n",
        "    MaxPool2D(pool_size = 2, strides = 2),\n",
        "\n",
        "    Flatten(),\n",
        "    Dense(100, activation = 'sigmoid'),\n",
        "    Dense(10, activation = 'sigmoid'),\n",
        "    Dense(1, activation = 'sigmoid'),\n",
        "])\n",
        "Lunette_model.summary()"
      ],
      "metadata": {
        "colab": {
          "base_uri": "https://localhost:8080/"
        },
        "id": "_sLOvdCHgQk-",
        "outputId": "3faba403-bba0-4001-f274-c784ba1d6f30"
      },
      "execution_count": null,
      "outputs": [
        {
          "output_type": "stream",
          "name": "stdout",
          "text": [
            "Model: \"sequential\"\n",
            "_________________________________________________________________\n",
            " Layer (type)                Output Shape              Param #   \n",
            "=================================================================\n",
            " conv2d (Conv2D)             (None, 220, 220, 6)       456       \n",
            "                                                                 \n",
            " max_pooling2d (MaxPooling2D  (None, 110, 110, 6)      0         \n",
            " )                                                               \n",
            "                                                                 \n",
            " conv2d_1 (Conv2D)           (None, 106, 106, 16)      2416      \n",
            "                                                                 \n",
            " max_pooling2d_1 (MaxPooling  (None, 53, 53, 16)       0         \n",
            " 2D)                                                             \n",
            "                                                                 \n",
            " flatten (Flatten)           (None, 44944)             0         \n",
            "                                                                 \n",
            " dense (Dense)               (None, 100)               4494500   \n",
            "                                                                 \n",
            " dense_1 (Dense)             (None, 10)                1010      \n",
            "                                                                 \n",
            " dense_2 (Dense)             (None, 1)                 11        \n",
            "                                                                 \n",
            "=================================================================\n",
            "Total params: 4,498,393\n",
            "Trainable params: 4,498,393\n",
            "Non-trainable params: 0\n",
            "_________________________________________________________________\n"
          ]
        }
      ]
    },
    {
      "cell_type": "code",
      "source": [
        "Lunette_model_modified = tf.keras.Sequential([\n",
        "    InputLayer(input_shape = (IM_SIZE, IM_SIZE, 3)),\n",
        "    Conv2D(filters = 6, kernel_size = 3, strides = 1, padding = 'valid', activation = 'relu'),\n",
        "    BatchNormalization(),\n",
        "    MaxPool2D(pool_size = 2, strides = 2),\n",
        "\n",
        "    Conv2D(filters = 16, kernel_size = 3, strides = 1, padding = 'valid', activation = 'relu'),\n",
        "    BatchNormalization(),\n",
        "    MaxPool2D(pool_size = 2, strides = 2),\n",
        "\n",
        "    Flatten(),\n",
        "    Dense(100, activation = 'relu'),\n",
        "    BatchNormalization(),\n",
        "\n",
        "    Dense(10, activation = 'relu'),\n",
        "    BatchNormalization(),\n",
        "    Dense(1, activation = 'sigmoid'),\n",
        "])\n",
        "Lunette_model_modified.summary()"
      ],
      "metadata": {
        "colab": {
          "base_uri": "https://localhost:8080/"
        },
        "id": "L7yq3yihi5J8",
        "outputId": "c24976a4-b2e5-4401-cb9d-032d6528124f"
      },
      "execution_count": null,
      "outputs": [
        {
          "output_type": "stream",
          "name": "stdout",
          "text": [
            "Model: \"sequential_1\"\n",
            "_________________________________________________________________\n",
            " Layer (type)                Output Shape              Param #   \n",
            "=================================================================\n",
            " conv2d_2 (Conv2D)           (None, 222, 222, 6)       168       \n",
            "                                                                 \n",
            " batch_normalization (BatchN  (None, 222, 222, 6)      24        \n",
            " ormalization)                                                   \n",
            "                                                                 \n",
            " max_pooling2d_2 (MaxPooling  (None, 111, 111, 6)      0         \n",
            " 2D)                                                             \n",
            "                                                                 \n",
            " conv2d_3 (Conv2D)           (None, 109, 109, 16)      880       \n",
            "                                                                 \n",
            " batch_normalization_1 (Batc  (None, 109, 109, 16)     64        \n",
            " hNormalization)                                                 \n",
            "                                                                 \n",
            " max_pooling2d_3 (MaxPooling  (None, 54, 54, 16)       0         \n",
            " 2D)                                                             \n",
            "                                                                 \n",
            " flatten_1 (Flatten)         (None, 46656)             0         \n",
            "                                                                 \n",
            " dense_3 (Dense)             (None, 100)               4665700   \n",
            "                                                                 \n",
            " batch_normalization_2 (Batc  (None, 100)              400       \n",
            " hNormalization)                                                 \n",
            "                                                                 \n",
            " dense_4 (Dense)             (None, 10)                1010      \n",
            "                                                                 \n",
            " batch_normalization_3 (Batc  (None, 10)               40        \n",
            " hNormalization)                                                 \n",
            "                                                                 \n",
            " dense_5 (Dense)             (None, 1)                 11        \n",
            "                                                                 \n",
            "=================================================================\n",
            "Total params: 4,668,297\n",
            "Trainable params: 4,668,033\n",
            "Non-trainable params: 264\n",
            "_________________________________________________________________\n"
          ]
        }
      ]
    },
    {
      "cell_type": "code",
      "source": [
        "func_input = Input( shape = (IM_SIZE, IM_SIZE, 3), name = \"Input Image\")\n",
        "\n",
        "x = Conv2D(filters = 6, kernel_size = 3, strides = 1, padding = 'valid', activation = 'relu')(func_input)\n",
        "x = BatchNormalization()(x)\n",
        "x = MaxPool2D(pool_size = 2, strides = 2)(x)\n",
        "\n",
        "x = Conv2D(filters = 16, kernel_size = 3, strides = 1, padding = 'valid', activation = 'relu')(x)\n",
        "x = BatchNormalization()(x)\n",
        "x = MaxPool2D(pool_size = 2, strides = 2)(x)\n",
        "\n",
        "x = Flatten()(x)\n",
        "x = Dense(100, activation = 'relu')(x)\n",
        "x = BatchNormalization()(x)\n",
        "\n",
        "x = Dense(10, activation = 'relu')(x)\n",
        "x = BatchNormalization()(x)\n",
        "func_output = Dense(1, activation = 'sigmoid')(x)\n",
        "\n",
        "lenette_model_functionalAPI = Model(func_input, func_output, name = \"lenette_model_functionalAPI\" )\n",
        "lenette_model_functionalAPI.summary()"
      ],
      "metadata": {
        "colab": {
          "base_uri": "https://localhost:8080/"
        },
        "id": "xpawXcl3gSX6",
        "outputId": "cbb25d92-1687-47a6-dae1-ebe53f1e8e7d"
      },
      "execution_count": null,
      "outputs": [
        {
          "output_type": "stream",
          "name": "stdout",
          "text": [
            "Model: \"lenette_model_functionalAPI\"\n",
            "_________________________________________________________________\n",
            " Layer (type)                Output Shape              Param #   \n",
            "=================================================================\n",
            " Input Image (InputLayer)    [(None, 224, 224, 3)]     0         \n",
            "                                                                 \n",
            " conv2d_4 (Conv2D)           (None, 222, 222, 6)       168       \n",
            "                                                                 \n",
            " batch_normalization_4 (Batc  (None, 222, 222, 6)      24        \n",
            " hNormalization)                                                 \n",
            "                                                                 \n",
            " max_pooling2d_4 (MaxPooling  (None, 111, 111, 6)      0         \n",
            " 2D)                                                             \n",
            "                                                                 \n",
            " conv2d_5 (Conv2D)           (None, 109, 109, 16)      880       \n",
            "                                                                 \n",
            " batch_normalization_5 (Batc  (None, 109, 109, 16)     64        \n",
            " hNormalization)                                                 \n",
            "                                                                 \n",
            " max_pooling2d_5 (MaxPooling  (None, 54, 54, 16)       0         \n",
            " 2D)                                                             \n",
            "                                                                 \n",
            " flatten_2 (Flatten)         (None, 46656)             0         \n",
            "                                                                 \n",
            " dense_6 (Dense)             (None, 100)               4665700   \n",
            "                                                                 \n",
            " batch_normalization_6 (Batc  (None, 100)              400       \n",
            " hNormalization)                                                 \n",
            "                                                                 \n",
            " dense_7 (Dense)             (None, 10)                1010      \n",
            "                                                                 \n",
            " batch_normalization_7 (Batc  (None, 10)               40        \n",
            " hNormalization)                                                 \n",
            "                                                                 \n",
            " dense_8 (Dense)             (None, 1)                 11        \n",
            "                                                                 \n",
            "=================================================================\n",
            "Total params: 4,668,297\n",
            "Trainable params: 4,668,033\n",
            "Non-trainable params: 264\n",
            "_________________________________________________________________\n"
          ]
        }
      ]
    },
    {
      "cell_type": "code",
      "source": [
        "lenette_model_functionalAPI.compile(optimizer = Adam(learning_rate = 0.01),\n",
        "                               loss = BinaryCrossentropy(),\n",
        "                               metrics = 'accuracy',)"
      ],
      "metadata": {
        "id": "wE1e5FWdi6vd"
      },
      "execution_count": null,
      "outputs": []
    },
    {
      "cell_type": "code",
      "source": [
        "# history = lenette_model_functionalAPI.fit(train_dataset, validation_data=val_dataset, epochs=5, verbose=1)"
      ],
      "metadata": {
        "id": "7B8l42M-jak_"
      },
      "execution_count": null,
      "outputs": []
    },
    {
      "cell_type": "code",
      "source": [
        "#callable models\n",
        "func_input = Input( shape = (IM_SIZE, IM_SIZE, 3), name = \"Input Image\")\n",
        "\n",
        "x = Conv2D(filters = 6, kernel_size = 3, strides = 1, padding = 'valid', activation = 'relu')(func_input)\n",
        "x = BatchNormalization()(x)\n",
        "x = MaxPool2D(pool_size = 2, strides = 2)(x)\n",
        "\n",
        "x = Conv2D(filters = 16, kernel_size = 3, strides = 1, padding = 'valid', activation = 'relu')(x)\n",
        "x = BatchNormalization()(x)\n",
        "output = MaxPool2D(pool_size = 2, strides = 2)(x)\n",
        "\n",
        "\n",
        "Feature_extractor_model_functionalAPI = Model(func_input, output, name = \"Feature_Extractor\" )\n",
        "Feature_extractor_model_functionalAPI.summary()"
      ],
      "metadata": {
        "colab": {
          "base_uri": "https://localhost:8080/"
        },
        "id": "QL8nN3u1k_sD",
        "outputId": "f3c895b4-4b17-419d-b7bb-f7f8f21ba464"
      },
      "execution_count": null,
      "outputs": [
        {
          "output_type": "stream",
          "name": "stdout",
          "text": [
            "Model: \"Feature_Extractor\"\n",
            "_________________________________________________________________\n",
            " Layer (type)                Output Shape              Param #   \n",
            "=================================================================\n",
            " Input Image (InputLayer)    [(None, 224, 224, 3)]     0         \n",
            "                                                                 \n",
            " conv2d_1 (Conv2D)           (None, 222, 222, 6)       168       \n",
            "                                                                 \n",
            " batch_normalization (BatchN  (None, 222, 222, 6)      24        \n",
            " ormalization)                                                   \n",
            "                                                                 \n",
            " max_pooling2d (MaxPooling2D  (None, 111, 111, 6)      0         \n",
            " )                                                               \n",
            "                                                                 \n",
            " conv2d_2 (Conv2D)           (None, 109, 109, 16)      880       \n",
            "                                                                 \n",
            " batch_normalization_1 (Batc  (None, 109, 109, 16)     64        \n",
            " hNormalization)                                                 \n",
            "                                                                 \n",
            " max_pooling2d_1 (MaxPooling  (None, 54, 54, 16)       0         \n",
            " 2D)                                                             \n",
            "                                                                 \n",
            "=================================================================\n",
            "Total params: 1,136\n",
            "Trainable params: 1,092\n",
            "Non-trainable params: 44\n",
            "_________________________________________________________________\n"
          ]
        }
      ]
    },
    {
      "cell_type": "code",
      "source": [
        "#callable models\n",
        "func_input = Input( shape = (IM_SIZE, IM_SIZE, 3), name = \"Input Image\")\n",
        "\n",
        "#even sequential models can be called\n",
        "x = Feature_extractor_model_functionalAPI(func_input)\n",
        "\n",
        "x = Flatten()(x)\n",
        "x = Dense(100, activation = 'relu')(x)\n",
        "x = BatchNormalization()(x)\n",
        "\n",
        "x = Dense(10, activation = 'relu')(x)\n",
        "x = BatchNormalization()(x)\n",
        "func_output = Dense(1, activation = 'sigmoid')(x)\n",
        "\n",
        "lenette_model_functionalAPI_FeatureExtractor = Model(func_input, func_output, name = \"lenette_model_functionalAPI_FeatureExtractor\" )\n",
        "lenette_model_functionalAPI_FeatureExtractor.summary()"
      ],
      "metadata": {
        "colab": {
          "base_uri": "https://localhost:8080/"
        },
        "id": "pEuTpnqjjhYc",
        "outputId": "e2ab9752-8624-436d-edc1-ca66bbac31fa"
      },
      "execution_count": null,
      "outputs": [
        {
          "output_type": "stream",
          "name": "stdout",
          "text": [
            "Model: \"lenette_model_functionalAPI_FeatureExtractor\"\n",
            "_________________________________________________________________\n",
            " Layer (type)                Output Shape              Param #   \n",
            "=================================================================\n",
            " Input Image (InputLayer)    [(None, 224, 224, 3)]     0         \n",
            "                                                                 \n",
            " Feature_Extractor (Function  (None, 54, 54, 16)       1136      \n",
            " al)                                                             \n",
            "                                                                 \n",
            " flatten (Flatten)           (None, 46656)             0         \n",
            "                                                                 \n",
            " dense (Dense)               (None, 100)               4665700   \n",
            "                                                                 \n",
            " batch_normalization_2 (Batc  (None, 100)              400       \n",
            " hNormalization)                                                 \n",
            "                                                                 \n",
            " dense_1 (Dense)             (None, 10)                1010      \n",
            "                                                                 \n",
            " batch_normalization_3 (Batc  (None, 10)               40        \n",
            " hNormalization)                                                 \n",
            "                                                                 \n",
            " dense_2 (Dense)             (None, 1)                 11        \n",
            "                                                                 \n",
            "=================================================================\n",
            "Total params: 4,668,297\n",
            "Trainable params: 4,668,033\n",
            "Non-trainable params: 264\n",
            "_________________________________________________________________\n"
          ]
        }
      ]
    },
    {
      "cell_type": "code",
      "source": [
        "#model subclassing\n",
        "class FeatureExtractor(Layer):\n",
        "  def __init__(self, filters, kernel_size, strides, padding, activation, pool_size,):\n",
        "    super(FeatureExtractor, self).__init__()\n",
        "\n",
        "    self.conv_1 = Conv2D(filters = filters, kernel_size = kernel_size, strides = strides, padding = padding , activation= activation)(func_input)\n",
        "    self.batch_1 = BatchNormalization()\n",
        "    self.pool_1 = MaxPool2D(pool_size = pool_size, strides = 2*strides)\n",
        "\n",
        "    self.conv_2 = Conv2D(filters = filters*2, kernel_size = kernel_size, strides = strides, padding = padding , activation= activation)(func_input)\n",
        "    self.batch_2 = BatchNormalization()\n",
        "    self.pool_2 = MaxPool2D(pool_size = pool_size, strides = 2*strides)\n",
        "\n",
        "  def call(self, x, training):\n",
        "\n",
        "    x = self.conv_1(x)\n",
        "    x = self.batch_1(x)\n",
        "    x = self.pool_1(x)\n",
        "\n",
        "    x = self.conv_2(x)\n",
        "    x = self.batch_2(x)\n",
        "    x = self.pool_2(x)\n",
        "\n",
        "    return x\n",
        "\n",
        "feature_sub_class = FeatureExtractor(8, 3, 1, \"valid\", \"relu\", 2)"
      ],
      "metadata": {
        "id": "TkgB_r_-lmaD"
      },
      "execution_count": null,
      "outputs": []
    },
    {
      "cell_type": "code",
      "source": [
        "#callable models\n",
        "func_input = Input( shape = (IM_SIZE, IM_SIZE, 3), name = \"Input Image\")\n",
        "\n",
        "#even sequential models can be called\n",
        "x = FeatureExtractor(func_input)\n",
        "\n",
        "x = Flatten()(x)\n",
        "x = Dense(100, activation = 'relu')(x)\n",
        "x = BatchNormalization()(x)\n",
        "\n",
        "x = Dense(10, activation = 'relu')(x)\n",
        "x = BatchNormalization()(x)\n",
        "func_output = Dense(1, activation = 'sigmoid')(x)\n",
        "\n",
        "lenette_model_functionalAPI_FeatureExtractor = Model(func_input, func_output, name = \"lenette_model_functionalAPI_FeatureExtractor\" )\n",
        "lenette_model_functionalAPI_FeatureExtractor.summary()"
      ],
      "metadata": {
        "id": "MpmDOlqKq-6q"
      },
      "execution_count": null,
      "outputs": []
    },
    {
      "cell_type": "code",
      "source": [
        "#custom layer\n",
        "class NewDense(Layer): #inherit layer class\n",
        "  def __init__(self, output_units, activation):\n",
        "    super(NewDense, self).__init__()\n",
        "    self.output_units = output_units\n",
        "    self.activation = activation\n",
        "\n",
        "  def build(self, input_features_shape):\n",
        "    self.w = self.add_weight(shape = (input_features_shape[-1], self.output_units), initializer = \"glorot_uniform\", trainable = True)\n",
        "    self.b = self.add_weight(shape = (self.output_units,), initializer = \"zeros\", trainable = True)\n",
        "\n",
        "  def call(self, input_features):\n",
        "    pre_output = tf.matmul(input_features, self.w) + self.b\n",
        "    if(self.activation == \"relu\"):\n",
        "      return tf.nn.relu(pre_output)\n",
        "    elif(self.activation == \"sigmoid\"):\n",
        "      return tf.math.sigmoid(pre_output)\n",
        "    else:\n",
        "      return pre_output"
      ],
      "metadata": {
        "id": "GXYzl7D4bbyR"
      },
      "execution_count": null,
      "outputs": []
    },
    {
      "cell_type": "code",
      "source": [
        "Lunette_model_Customlayer = tf.keras.Sequential([\n",
        "    InputLayer(input_shape = (IM_SIZE, IM_SIZE, 3)),\n",
        "    Conv2D(filters = 6, kernel_size = 3, strides = 1, padding = 'valid', activation = 'relu'),\n",
        "    BatchNormalization(),\n",
        "    MaxPool2D(pool_size = 2, strides = 2),\n",
        "\n",
        "    Conv2D(filters = 16, kernel_size = 3, strides = 1, padding = 'valid', activation = 'relu'),\n",
        "    BatchNormalization(),\n",
        "    MaxPool2D(pool_size = 2, strides = 2),\n",
        "\n",
        "    Flatten(),\n",
        "    NewDense(100, activation = 'relu'),\n",
        "    BatchNormalization(),\n",
        "\n",
        "    NewDense(10, activation = 'relu'),\n",
        "    BatchNormalization(),\n",
        "    NewDense(1, activation = 'sigmoid'),\n",
        "])\n",
        "Lunette_model_Customlayer.summary()"
      ],
      "metadata": {
        "colab": {
          "base_uri": "https://localhost:8080/"
        },
        "id": "uXzYEoz0gFw-",
        "outputId": "4c6aa436-54b0-456c-f7f9-7d4480f4bcf5"
      },
      "execution_count": null,
      "outputs": [
        {
          "output_type": "stream",
          "name": "stdout",
          "text": [
            "Model: \"sequential_2\"\n",
            "_________________________________________________________________\n",
            " Layer (type)                Output Shape              Param #   \n",
            "=================================================================\n",
            " conv2d (Conv2D)             (None, 222, 222, 6)       168       \n",
            "                                                                 \n",
            " batch_normalization (BatchN  (None, 222, 222, 6)      24        \n",
            " ormalization)                                                   \n",
            "                                                                 \n",
            " max_pooling2d (MaxPooling2D  (None, 111, 111, 6)      0         \n",
            " )                                                               \n",
            "                                                                 \n",
            " conv2d_1 (Conv2D)           (None, 109, 109, 16)      880       \n",
            "                                                                 \n",
            " batch_normalization_1 (Batc  (None, 109, 109, 16)     64        \n",
            " hNormalization)                                                 \n",
            "                                                                 \n",
            " max_pooling2d_1 (MaxPooling  (None, 54, 54, 16)       0         \n",
            " 2D)                                                             \n",
            "                                                                 \n",
            " flatten (Flatten)           (None, 46656)             0         \n",
            "                                                                 \n",
            " new_dense (NewDense)        (None, 100)               4665700   \n",
            "                                                                 \n",
            " batch_normalization_2 (Batc  (None, 100)              400       \n",
            " hNormalization)                                                 \n",
            "                                                                 \n",
            " new_dense_1 (NewDense)      (None, 10)                1010      \n",
            "                                                                 \n",
            " batch_normalization_3 (Batc  (None, 10)               40        \n",
            " hNormalization)                                                 \n",
            "                                                                 \n",
            " new_dense_2 (NewDense)      (None, 1)                 11        \n",
            "                                                                 \n",
            "=================================================================\n",
            "Total params: 4,668,297\n",
            "Trainable params: 4,668,033\n",
            "Non-trainable params: 264\n",
            "_________________________________________________________________\n"
          ]
        }
      ]
    },
    {
      "cell_type": "code",
      "source": [
        "Lunette_model_Customlayer.compile(optimizer = Adam(learning_rate = 0.01),\n",
        "                               loss = BinaryCrossentropy(),\n",
        "                               metrics = 'accuracy',)"
      ],
      "metadata": {
        "id": "8lTzkDUIiBo3"
      },
      "execution_count": null,
      "outputs": []
    },
    {
      "cell_type": "code",
      "source": [
        "history = Lunette_model_Customlayer.fit(train_dataset, validation_data=val_dataset, epochs=5, verbose=1)"
      ],
      "metadata": {
        "colab": {
          "base_uri": "https://localhost:8080/"
        },
        "id": "ws4rQHJmiFvH",
        "outputId": "39bdb415-4743-4e6b-fcd3-54701163242a"
      },
      "execution_count": null,
      "outputs": [
        {
          "output_type": "stream",
          "name": "stdout",
          "text": [
            "Epoch 1/5\n",
            "689/689 [==============================] - 147s 194ms/step - loss: 0.3944 - accuracy: 0.8209 - val_loss: 0.3225 - val_accuracy: 0.9103\n",
            "Epoch 2/5\n",
            "689/689 [==============================] - 141s 204ms/step - loss: 0.2224 - accuracy: 0.9265 - val_loss: 0.3099 - val_accuracy: 0.9394\n",
            "Epoch 3/5\n",
            "689/689 [==============================] - 134s 194ms/step - loss: 0.2141 - accuracy: 0.9277 - val_loss: 0.9634 - val_accuracy: 0.8486\n",
            "Epoch 4/5\n",
            "689/689 [==============================] - 142s 206ms/step - loss: 0.2026 - accuracy: 0.9333 - val_loss: 0.5660 - val_accuracy: 0.7539\n",
            "Epoch 5/5\n",
            "689/689 [==============================] - 134s 194ms/step - loss: 0.2263 - accuracy: 0.9249 - val_loss: 0.4085 - val_accuracy: 0.8250\n"
          ]
        }
      ]
    },
    {
      "cell_type": "code",
      "source": [
        "#model evaluation\n",
        "# TP|FP\n",
        "# FN|TN\n",
        "\n",
        "# True Positive = Both prediction and label is true\n",
        "# False Positive = Prediction is true but label is false ~ should avoid(2) - type1 error\n",
        "# False Negetive = Prediction is false but label is true ~ should avoid(1) - type2 error\n",
        "# True Negetive = Both prediction and label is false"
      ],
      "metadata": {
        "id": "hRGzXN63rf7Z"
      },
      "execution_count": null,
      "outputs": []
    },
    {
      "cell_type": "markdown",
      "source": [
        "![image.png](data:image/png;base64,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)"
      ],
      "metadata": {
        "id": "pKXYzxdNEbsr"
      }
    },
    {
      "cell_type": "markdown",
      "source": [
        "Precision = $ \\frac{(TP)}{(TP + FP)} $\n",
        "\n",
        "Recall = $\\frac {TP}{(TP + FN)}$\n",
        "\n",
        "Accuracy = $\\frac {TN + TP}{TN + TP + FN + FP}$\n",
        "\n",
        "F1 score = $\\frac{2.P.R}{P + R}$\n",
        "\n",
        "Specificity = $\\frac{TN}{TN+FP}$\n"
      ],
      "metadata": {
        "id": "c9K6HUdYLJto"
      }
    },
    {
      "cell_type": "markdown",
      "source": [
        "An ROC curve (receiver operating characteristic curve) is a graph showing the performance of a classification model at all classification thresholds. This curve plots two parameters:\n",
        "\n",
        "- True Positive Rate\n",
        "- False Positive Rate\n",
        "\n",
        "![image.png](data:image/png;base64,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)"
      ],
      "metadata": {
        "id": "C9OSeXKznaAc"
      }
    },
    {
      "cell_type": "markdown",
      "source": [
        "AUC stands for \"Area under the ROC Curve.\""
      ],
      "metadata": {
        "id": "4y4Q_FzSoNCj"
      }
    },
    {
      "cell_type": "code",
      "source": [
        "metrics = [TruePositives(name = 'tp'), FalsePositives(name = 'fp'), FalseNegatives(name = 'fn'), BinaryAccuracy(name = 'accuracy'), TrueNegatives(name ='tn'), Precision(name= 'precision'), Recall(name = 'recall'), AUC(name ='auc')]"
      ],
      "metadata": {
        "id": "-QY9GywRrP6D"
      },
      "execution_count": null,
      "outputs": []
    },
    {
      "cell_type": "code",
      "source": [
        "Lunette_model_Customlayer.compile(optimizer = Adam(learning_rate = 0.01),\n",
        "                               loss = BinaryCrossentropy(),\n",
        "                               metrics = metrics,)"
      ],
      "metadata": {
        "id": "ArK303SMEccN"
      },
      "execution_count": null,
      "outputs": []
    },
    {
      "cell_type": "code",
      "source": [
        "history = Lunette_model_Customlayer.fit(train_dataset, validation_data=val_dataset, epochs=5, verbose=1)"
      ],
      "metadata": {
        "colab": {
          "base_uri": "https://localhost:8080/"
        },
        "id": "AeyAxE-srMAy",
        "outputId": "78222040-8b1a-4575-ab85-bbbaa8ad17b3"
      },
      "execution_count": null,
      "outputs": [
        {
          "output_type": "stream",
          "name": "stdout",
          "text": [
            "Epoch 1/5\n",
            "689/689 [==============================] - 154s 202ms/step - loss: 0.3710 - tp: 9414.0000 - fp: 2024.0000 - fn: 1609.0000 - accuracy: 0.8352 - tn: 8999.0000 - precision: 0.8230 - recall: 0.8540 - auc: 0.9147 - val_loss: 0.2642 - val_tp: 1355.0000 - val_fp: 183.0000 - val_fn: 41.0000 - val_accuracy: 0.9187 - val_tn: 1176.0000 - val_precision: 0.8810 - val_recall: 0.9706 - val_auc: 0.9584\n",
            "Epoch 2/5\n",
            "689/689 [==============================] - 139s 201ms/step - loss: 0.1985 - tp: 10423.0000 - fp: 878.0000 - fn: 602.0000 - accuracy: 0.9329 - tn: 10143.0000 - precision: 0.9223 - recall: 0.9454 - auc: 0.9706 - val_loss: 0.1973 - val_tp: 1341.0000 - val_fp: 110.0000 - val_fn: 57.0000 - val_accuracy: 0.9394 - val_tn: 1247.0000 - val_precision: 0.9242 - val_recall: 0.9592 - val_auc: 0.9768\n",
            "Epoch 3/5\n",
            "689/689 [==============================] - 138s 200ms/step - loss: 0.1904 - tp: 10474.0000 - fp: 827.0000 - fn: 551.0000 - accuracy: 0.9375 - tn: 10194.0000 - precision: 0.9268 - recall: 0.9500 - auc: 0.9723 - val_loss: 0.1839 - val_tp: 1358.0000 - val_fp: 129.0000 - val_fn: 34.0000 - val_accuracy: 0.9408 - val_tn: 1234.0000 - val_precision: 0.9132 - val_recall: 0.9756 - val_auc: 0.9778\n",
            "Epoch 4/5\n",
            "689/689 [==============================] - 137s 197ms/step - loss: 0.1793 - tp: 10526.0000 - fp: 775.0000 - fn: 497.0000 - accuracy: 0.9423 - tn: 10248.0000 - precision: 0.9314 - recall: 0.9549 - auc: 0.9751 - val_loss: 0.3285 - val_tp: 1130.0000 - val_fp: 51.0000 - val_fn: 263.0000 - val_accuracy: 0.8860 - val_tn: 1311.0000 - val_precision: 0.9568 - val_recall: 0.8112 - val_auc: 0.9739\n",
            "Epoch 5/5\n",
            "689/689 [==============================] - 146s 211ms/step - loss: 0.1813 - tp: 10513.0000 - fp: 796.0000 - fn: 510.0000 - accuracy: 0.9408 - tn: 10227.0000 - precision: 0.9296 - recall: 0.9537 - auc: 0.9744 - val_loss: 0.1870 - val_tp: 1352.0000 - val_fp: 114.0000 - val_fn: 40.0000 - val_accuracy: 0.9441 - val_tn: 1249.0000 - val_precision: 0.9222 - val_recall: 0.9713 - val_auc: 0.9789\n"
          ]
        }
      ]
    },
    {
      "cell_type": "code",
      "source": [
        "test_dataset = test_dataset.batch(1)"
      ],
      "metadata": {
        "id": "qSuKZbYEv3a_"
      },
      "execution_count": null,
      "outputs": []
    },
    {
      "cell_type": "code",
      "source": [
        "test_dataset"
      ],
      "metadata": {
        "colab": {
          "base_uri": "https://localhost:8080/"
        },
        "id": "ga54CRpiv7ab",
        "outputId": "7e3ab940-9b08-44bf-8093-683ef9c96855"
      },
      "execution_count": null,
      "outputs": [
        {
          "output_type": "execute_result",
          "data": {
            "text/plain": [
              "<_BatchDataset element_spec=(TensorSpec(shape=(None, 224, 224, 3), dtype=tf.float32, name=None), TensorSpec(shape=(None,), dtype=tf.int64, name=None))>"
            ]
          },
          "metadata": {},
          "execution_count": 23
        }
      ]
    },
    {
      "cell_type": "code",
      "source": [
        "Lunette_model_Customlayer.evaluate(test_dataset)"
      ],
      "metadata": {
        "colab": {
          "base_uri": "https://localhost:8080/"
        },
        "id": "FQ6yPvpNv9AY",
        "outputId": "874a0a37-dd92-4caf-a1e5-428ce3731550"
      },
      "execution_count": null,
      "outputs": [
        {
          "output_type": "stream",
          "name": "stdout",
          "text": [
            "2757/2757 [==============================] - 27s 5ms/step - loss: 0.1894 - tp: 1319.0000 - fp: 122.0000 - fn: 42.0000 - accuracy: 0.9405 - tn: 1274.0000 - precision: 0.9153 - recall: 0.9691 - auc: 0.9766\n"
          ]
        },
        {
          "output_type": "execute_result",
          "data": {
            "text/plain": [
              "[0.18935498595237732,\n",
              " 1319.0,\n",
              " 122.0,\n",
              " 42.0,\n",
              " 0.9405150413513184,\n",
              " 1274.0,\n",
              " 0.915336549282074,\n",
              " 0.969140350818634,\n",
              " 0.9765734076499939]"
            ]
          },
          "metadata": {},
          "execution_count": 24
        }
      ]
    },
    {
      "cell_type": "code",
      "source": [
        "#confusion matrix\n",
        "labels = []\n",
        "inputs = []\n",
        "\n",
        "for x, y in test_dataset.as_numpy_iterator():\n",
        "  labels.append(y)\n",
        "  inputs.append(x)"
      ],
      "metadata": {
        "id": "Q46D9Wm1wYg-"
      },
      "execution_count": null,
      "outputs": []
    },
    {
      "cell_type": "code",
      "source": [
        "labels = np.array([i[0] for i in labels])\n",
        "print(labels)"
      ],
      "metadata": {
        "colab": {
          "base_uri": "https://localhost:8080/"
        },
        "id": "3a2_Kw_x3y9W",
        "outputId": "a9a321d2-1c2f-4fbb-fece-e6071da33652"
      },
      "execution_count": null,
      "outputs": [
        {
          "output_type": "stream",
          "name": "stdout",
          "text": [
            "[1 1 0 ... 1 1 0]\n"
          ]
        }
      ]
    },
    {
      "cell_type": "code",
      "source": [
        "print(np.array(inputs).shape)\n",
        "print(np.array(inputs)[:, 0,...].shape)"
      ],
      "metadata": {
        "colab": {
          "base_uri": "https://localhost:8080/"
        },
        "id": "blc9R1bV0gWv",
        "outputId": "17cbf246-e633-4cfd-eca0-4872b309aa14"
      },
      "execution_count": null,
      "outputs": [
        {
          "output_type": "stream",
          "name": "stdout",
          "text": [
            "(2757, 1, 224, 224, 3)\n",
            "(2757, 224, 224, 3)\n"
          ]
        }
      ]
    },
    {
      "cell_type": "code",
      "source": [
        "predicted = Lunette_model_Customlayer.predict(np.array(inputs)[:,0,...])\n",
        "print(predicted[:,0])\n",
        "print(predicted)"
      ],
      "metadata": {
        "colab": {
          "base_uri": "https://localhost:8080/"
        },
        "id": "D4l4Vo0HzcL1",
        "outputId": "2e1c2c85-d46a-472c-d6ad-c2cb60ad5edf"
      },
      "execution_count": null,
      "outputs": [
        {
          "output_type": "stream",
          "name": "stdout",
          "text": [
            "87/87 [==============================] - 1s 14ms/step\n",
            "[[0.98406214]\n",
            " [0.97336394]\n",
            " [0.04243748]\n",
            " ...\n",
            " [0.98595375]\n",
            " [0.9828468 ]\n",
            " [0.00533946]]\n"
          ]
        }
      ]
    },
    {
      "cell_type": "code",
      "source": [
        "threshold = 0.75\n",
        "\n",
        "cm = confusion_matrix(labels, predicted > threshold)\n",
        "print(cm)\n",
        "plt.figure(figsize=(8,8))\n",
        "\n",
        "sns.heatmap(cm, annot=True,)\n",
        "plt.title('Confusion matrix - {}'.format(threshold))\n",
        "plt.ylabel('Actual')\n",
        "plt.xlabel('Predicted')\n"
      ],
      "metadata": {
        "colab": {
          "base_uri": "https://localhost:8080/",
          "height": 773
        },
        "id": "QItNdTDh4PQ1",
        "outputId": "0e5c5d52-fbbc-4cb0-9ccf-e4d8fbeefea0"
      },
      "execution_count": null,
      "outputs": [
        {
          "output_type": "stream",
          "name": "stdout",
          "text": [
            "[[1300   93]\n",
            " [  57 1307]]\n"
          ]
        },
        {
          "output_type": "execute_result",
          "data": {
            "text/plain": [
              "Text(0.5, 58.7222222222222, 'Predicted')"
            ]
          },
          "metadata": {},
          "execution_count": 31
        },
        {
          "output_type": "display_data",
          "data": {
            "text/plain": [
              "<Figure size 800x800 with 2 Axes>"
            ],
            "image/png": "[encoded data removed]"
          },
          "metadata": {}
        }
      ]
    },
    {
      "cell_type": "code",
      "source": [
        "fp, tp, thresholds = roc_curve(labels, predicted)\n",
        "plt.plot(fp, tp)\n",
        "plt.xlabel(\"False Positive rate\")\n",
        "plt.ylabel(\"True Positive rate\")\n",
        "\n",
        "plt.grid()\n",
        "\n",
        "skip = 20\n",
        "\n",
        "for i in range(0, len(thresholds), skip):\n",
        "  plt.text(fp[i], tp[i], thresholds[i])\n",
        "\n",
        "plt.show()"
      ],
      "metadata": {
        "colab": {
          "base_uri": "https://localhost:8080/",
          "height": 449
        },
        "id": "SY8AKj6K6DAB",
        "outputId": "888c5dfe-d831-4efa-e854-9ffd4db3b0a7"
      },
      "execution_count": null,
      "outputs": [
        {
          "output_type": "display_data",
          "data": {
            "text/plain": [
              "<Figure size 640x480 with 1 Axes>"
            ],
            "image/png": "[encoded data removed]"
          },
          "metadata": {}
        }
      ]
    },
    {
      "cell_type": "code",
      "source": [],
      "metadata": {
        "id": "pTxV3Htg6IgF"
      },
      "execution_count": null,
      "outputs": []
    }
  ]
}